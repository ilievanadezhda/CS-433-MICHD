{
 "cells": [
  {
   "cell_type": "code",
   "execution_count": 1,
   "metadata": {},
   "outputs": [],
   "source": [
    "%load_ext autoreload\n",
    "%autoreload 2\n"
   ]
  },
  {
   "cell_type": "code",
   "execution_count": 15,
   "metadata": {},
   "outputs": [],
   "source": [
    "import numpy as np\n",
    "from helpers import *\n",
    "from implementations import (\n",
    "    mean_squared_error_gd,\n",
    "    mean_squared_error_sgd,\n",
    "    cross_validation,\n",
    "    logistic_regression,\n",
    "    ridge_regression,\n",
    "    least_squares,\n",
    "    reg_logistic_regression,\n",
    ")\n",
    "from utils import (\n",
    "    build_k_indices,\n",
    "    mean_imputation,\n",
    "    standardize,\n",
    "    drop_columns,\n",
    "    build_poly,\n",
    ")\n"
   ]
  },
  {
   "cell_type": "code",
   "execution_count": 12,
   "metadata": {},
   "outputs": [],
   "source": [
    "# dict with models\n",
    "models = {\n",
    "    \"least_squares\": least_squares,\n",
    "    \"ridge_regression\": ridge_regression,\n",
    "    \"logistic_regression\": logistic_regression,\n",
    "    \"reg_logistic_regression\": reg_logistic_regression,\n",
    "    \"linear_regression_gradient_descent\": mean_squared_error_gd,\n",
    "    \"linear_regression_stochastic_gradient_descent\": mean_squared_error_sgd,\n",
    "}\n"
   ]
  },
  {
   "cell_type": "code",
   "execution_count": 3,
   "metadata": {},
   "outputs": [],
   "source": [
    "np.random.seed(42)\n"
   ]
  },
  {
   "cell_type": "code",
   "execution_count": 9,
   "metadata": {},
   "outputs": [],
   "source": [
    "y_train, x_train, train_ids = load_csv_data(\"../data/\")\n",
    "x_test, test_ids = load_csv_data(\"../data/\", test=True)"
   ]
  },
  {
   "cell_type": "code",
   "execution_count": 16,
   "metadata": {},
   "outputs": [],
   "source": [
    "x_train = drop_columns(x_train, 0.8)\n",
    "x_test = drop_columns(x_test, 0.8)  # if column has 80% missing and above, we drop it"
   ]
  },
  {
   "cell_type": "code",
   "execution_count": 19,
   "metadata": {},
   "outputs": [],
   "source": [
    "x_train = mean_imputation(x_train)  # median_imputation(x_train)\n",
    "x_test = mean_imputation(x_test)  # median_imputation(x_test)\n"
   ]
  },
  {
   "cell_type": "code",
   "execution_count": 20,
   "metadata": {},
   "outputs": [],
   "source": [
    "x_train = standardize(x_train)\n",
    "x_test = standardize(x_test)\n"
   ]
  },
  {
   "cell_type": "code",
   "execution_count": 21,
   "metadata": {},
   "outputs": [],
   "source": [
    "x_train = build_poly(x_train, 2)\n",
    "x_test = build_poly(x_test, 2)\n"
   ]
  },
  {
   "cell_type": "code",
   "execution_count": 23,
   "metadata": {},
   "outputs": [
    {
     "name": "stdout",
     "output_type": "stream",
     "text": [
      "kth=0\n",
      "fold=0, accuracy_train=0.912, accuracy_test=0.913,\n",
      "loss_train=55.956, loss_test=42.095,\n",
      "kth=1\n",
      "fold=1, accuracy_train=0.911, accuracy_test=0.913,\n",
      "loss_train=45.679, loss_test=40.765,\n",
      "kth=2\n",
      "fold=2, accuracy_train=0.902, accuracy_test=0.902,\n",
      "loss_train=15.782, loss_test=11.614,\n",
      "kth=3\n",
      "fold=3, accuracy_train=0.911, accuracy_test=0.911,\n",
      "loss_train=13.806, loss_test=17.856,\n",
      "kth=4\n",
      "fold=4, accuracy_train=0.912, accuracy_test=0.910,\n",
      "loss_train=148.678, loss_test=144.816,\n"
     ]
    }
   ],
   "source": [
    "model_args = {\n",
    "    \"max_iters\": 50,\n",
    "    \"gamma\": 0.1,\n",
    "    \"initial_w\": np.zeros(x_train.shape[1]),\n",
    "}  # CHANGE THIS IN ACCORDANCE TO THE MODEL\n",
    "\n",
    "k_indices = build_k_indices(y_train, 5, 42)\n",
    "train_loss, test_loss, acc_train, acc_test, weights = cross_validation(\n",
    "    y_train, x_train, k_indices, 5, models[\"logistic_regression\"], model_args\n",
    ")"
   ]
  },
  {
   "cell_type": "code",
   "execution_count": null,
   "metadata": {},
   "outputs": [],
   "source": []
  }
 ],
 "metadata": {
  "kernelspec": {
   "display_name": "base",
   "language": "python",
   "name": "python3"
  },
  "language_info": {
   "codemirror_mode": {
    "name": "ipython",
    "version": 3
   },
   "file_extension": ".py",
   "mimetype": "text/x-python",
   "name": "python",
   "nbconvert_exporter": "python",
   "pygments_lexer": "ipython3",
   "version": "3.9.13"
  }
 },
 "nbformat": 4,
 "nbformat_minor": 2
}
