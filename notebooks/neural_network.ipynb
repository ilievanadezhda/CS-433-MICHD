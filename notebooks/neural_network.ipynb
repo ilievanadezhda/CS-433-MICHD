{
  "cells": [
    {
      "cell_type": "code",
      "execution_count": 22,
      "metadata": {},
      "outputs": [
        {
          "name": "stdout",
          "output_type": "stream",
          "text": [
            "The autoreload extension is already loaded. To reload it, use:\n",
            "  %reload_ext autoreload\n"
          ]
        }
      ],
      "source": [
        "%load_ext autoreload\n",
        "%autoreload 2\n"
      ]
    },
    {
      "cell_type": "code",
      "execution_count": 23,
      "metadata": {},
      "outputs": [],
      "source": [
        "import sys\n",
        "\n",
        "sys.path.append(\"../\")\n",
        "# add ../ to path\n"
      ]
    },
    {
      "cell_type": "code",
      "execution_count": 49,
      "metadata": {},
      "outputs": [],
      "source": [
        "from helpers import load_csv_data\n",
        "from feature_processing import (\n",
        "    drop_columns,\n",
        "    drop_correlated_columns,\n",
        "    drop_single_value_columns,\n",
        "    median_imputation,\n",
        "    mean_imputation,\n",
        "    standardize,\n",
        "    build_poly,\n",
        "    build_log,\n",
        "    build_ratios,\n",
        "    remove_outliers,\n",
        ")\n",
        "import matplotlib.pyplot as plt\n",
        "from cross_validation import f1_score\n",
        "from neural_network import (\n",
        "    Fully_connected,\n",
        "    ReLU,\n",
        "    train,\n",
        "    predict,\n",
        "    iterate_minibatches,\n",
        ")\n",
        "import numpy as np\n",
        "\n",
        "np.random.seed(0)\n"
      ]
    },
    {
      "cell_type": "code",
      "execution_count": 58,
      "metadata": {},
      "outputs": [],
      "source": [
        "x_train, x_test, Y_train, train_ids, test_ids = load_csv_data(\"../../data\")\n",
        "# have 10% of the data as validation set\n",
        "split_ratio = 0.9\n",
        "split_index = int(len(x_train) * split_ratio)"
      ]
    },
    {
      "cell_type": "code",
      "execution_count": 59,
      "metadata": {},
      "outputs": [],
      "source": [
        "X_train = x_train[:split_index]\n",
        "y_train = Y_train[:split_index]\n",
        "\n",
        "X_val = x_train[split_index:]\n",
        "y_val = Y_train[split_index:]\n"
      ]
    },
    {
      "cell_type": "code",
      "execution_count": 60,
      "metadata": {},
      "outputs": [],
      "source": [
        "y_train[np.where(y_train == -1)] = 0\n",
        "y_val[np.where(y_val == -1)] = 0\n"
      ]
    },
    {
      "cell_type": "code",
      "execution_count": 65,
      "metadata": {},
      "outputs": [],
      "source": [
        "### Column dropping and imputation ###\n",
        "# threshold for drop_columns function\n",
        "DROP_NAN_THRESHOLD = 1  # 1 = keep everything, 0 = drop everything that contains nan\n",
        "# threshold for categorical/numerical (categorical are imputated with median, numerical with mean)\n",
        "CAT_NUM_THRESHOLD = 200\n",
        "# flag for drop_single_value_columns function\n",
        "# Should always be True, otherwise it is messing up with the correlation coefficient.\n",
        "DROP_SINGLE = True\n",
        "# threshold for drop_correlated_columns function\n",
        "DROP_CORR_THRESHOLD = 1\n",
        "# remove outliers\n",
        "REMOVE_OUTLIERS = False\n",
        "### Feature processing ###\n",
        "# flag for build_poly function\n",
        "BUILD_POLY = False\n",
        "# degree for build_poly function\n",
        "DEGREE = 2\n",
        "# flag for build_log function\n",
        "BUILD_LOG = False\n",
        "# flag for build_x\n",
        "BUILD_RATIOS = False\n",
        "# flag for standardize function\n",
        "STANDARDIZE = True"
      ]
    },
    {
      "cell_type": "code",
      "execution_count": 66,
      "metadata": {},
      "outputs": [],
      "source": [
        "x_train_temp = X_train.copy()\n",
        "x_val_temp = X_val.copy()\n",
        "x_test_temp = x_test.copy()\n"
      ]
    },
    {
      "cell_type": "code",
      "execution_count": 67,
      "metadata": {},
      "outputs": [
        {
          "name": "stdout",
          "output_type": "stream",
          "text": [
            "Dropping columns with DROP_NAN_THRESHOLD = 1...\n",
            "(295321, 321)\n",
            "Dropping single valued columns...\n",
            "Standardizing...\n"
          ]
        }
      ],
      "source": [
        "x_train_temp, cols_to_keep_1 = drop_columns(x_train_temp, DROP_NAN_THRESHOLD)\n",
        "x_val_temp = x_val_temp[:, cols_to_keep_1]\n",
        "x_test_temp = x_test_temp[:, cols_to_keep_1]\n",
        "print(f\"Dropping columns with DROP_NAN_THRESHOLD = {DROP_NAN_THRESHOLD}...\")\n",
        "\n",
        "# Identify categorical and numerical features\n",
        "# categorical and numerical features\n",
        "categorical_features = []\n",
        "numerical_features = []\n",
        "# find categorical and numerical features\n",
        "for i, feature in enumerate(x_train_temp.T):\n",
        "    if np.unique(feature).shape[0] < CAT_NUM_THRESHOLD:\n",
        "        categorical_features.append(i)\n",
        "    else:\n",
        "        numerical_features.append(i)\n",
        "# fill in missing values on the train and test\n",
        "x_train_temp[:, categorical_features] = median_imputation(\n",
        "    x_train_temp[:, categorical_features]\n",
        ")\n",
        "x_val_temp[:, categorical_features] = median_imputation(\n",
        "    x_val_temp[:, categorical_features]\n",
        ")\n",
        "x_train_temp[:, numerical_features] = mean_imputation(\n",
        "    x_train_temp[:, numerical_features]\n",
        ")\n",
        "x_val_temp[:, numerical_features] = mean_imputation(\n",
        "    x_val_temp[:, numerical_features])\n",
        "x_test_temp[:, categorical_features] = median_imputation(\n",
        "    x_test_temp[:, categorical_features]\n",
        ")\n",
        "x_test_temp[:, numerical_features] = mean_imputation(\n",
        "    x_test_temp[:, numerical_features])\n",
        "\n",
        "if REMOVE_OUTLIERS:\n",
        "    low_perc = np.percentile(x_train_temp, 2, axis=0)\n",
        "    high_perc = np.percentile(x_train_temp, 100 - 2, axis=0)\n",
        "    x_train_temp = remove_outliers(x_train_temp, low_perc, high_perc)\n",
        "    x_val_temp = remove_outliers(x_val_temp, low_perc, high_perc)\n",
        "    x_test_temp = remove_outliers(x_test_temp, low_perc, high_perc)\n",
        "\n",
        "# Data engineering: ratios, log-transform, polynomial features\n",
        "if BUILD_RATIOS:\n",
        "    print(\"Building ratios...\")\n",
        "    ratio_features_train = build_ratios(x_train_temp[:, numerical_features])\n",
        "    ratio_features_val = build_ratios(x_val_temp[:, numerical_features])\n",
        "    ratio_features_test = build_ratios(x_test_temp[:, numerical_features])\n",
        "    x_train_temp = np.hstack((x_train_temp, ratio_features_train))\n",
        "    x_val_temp = np.hstack((x_val_temp, ratio_features_val))\n",
        "    x_test_temp = np.hstack((x_test_temp, ratio_features_test))\n",
        "\n",
        "if BUILD_LOG:\n",
        "    print(\"Building log...\")\n",
        "    log_features_train = build_log(x_train_temp[:, numerical_features])\n",
        "    log_features_val = build_log(x_val_temp[:, numerical_features])\n",
        "    log_features_test = build_log(x_test_temp[:, numerical_features])\n",
        "    x_train_temp = np.hstack((x_train_temp, log_features_train))\n",
        "    x_val_temp = np.hstack((x_val_temp, log_features_val))\n",
        "    x_test_temp = np.hstack((x_test_temp, log_features_test))\n",
        "\n",
        "if BUILD_POLY:\n",
        "    print(\"Building polynomial features...\")\n",
        "    x_train_temp = build_poly(x_train_temp, 2)\n",
        "    x_val_temp = build_poly(x_val_temp, 2)\n",
        "    x_test_temp = build_poly(x_test_temp, 2)\n",
        "print(x_train_temp.shape)\n",
        "\n",
        "# Drop columns with a single unique value or highly correlated columns\n",
        "if DROP_SINGLE:\n",
        "    x_train_temp, cols_to_keep_3 = drop_single_value_columns(x_train_temp)\n",
        "    x_test_temp = x_test_temp[:, cols_to_keep_3]\n",
        "    x_val_temp = x_val_temp[:, cols_to_keep_3]\n",
        "    print(\"Dropping single valued columns...\")\n",
        "\n",
        "x_train_temp, cols_to_keep_2 = drop_correlated_columns(\n",
        "    x_train_temp, DROP_CORR_THRESHOLD\n",
        ")\n",
        "x_val_temp = x_val_temp[:, cols_to_keep_2]\n",
        "x_test_temp = x_test_temp[:, cols_to_keep_2]\n",
        "\n",
        "# Standardize the datasets\n",
        "if STANDARDIZE:\n",
        "    print(\"Standardizing...\")\n",
        "    x_train_temp = standardize(x_train_temp)\n",
        "    x_val_temp = standardize(x_val_temp)\n",
        "    x_test_temp = standardize(x_test_temp)\n"
      ]
    },
    {
      "cell_type": "code",
      "execution_count": 69,
      "metadata": {},
      "outputs": [],
      "source": [
        "# NUM_FOLDS = 5\n",
        "# # concatenatex x_train and x_val for cross validation\n",
        "# # build k_indices for cross validation\n",
        "# k_indices = build_k_indices(y_train, NUM_FOLDS, 42)\n",
        "# cross_validation_nn(y_train, x_train_temp, k_indices)\n"
      ]
    },
    {
      "cell_type": "code",
      "execution_count": 57,
      "metadata": {},
      "outputs": [],
      "source": [
        "# build neural network\n",
        "network = []\n",
        "network.append(Fully_connected(x_train_temp.shape[1], 128))\n",
        "network.append(ReLU())\n",
        "network.append(Fully_connected(128, 2))\n"
      ]
    },
    {
      "cell_type": "code",
      "execution_count": 48,
      "metadata": {
        "colab": {
          "base_uri": "https://localhost:8080/",
          "height": 481
        },
        "collapsed": true,
        "id": "3FOu8r1Qjw8H",
        "outputId": "1f76da29-96ca-4518-9499-b6a324cf898c"
      },
      "outputs": [
        {
          "name": "stdout",
          "output_type": "stream",
          "text": [
            "Epoch 0\n",
            "Train accuracy: 0.8549476671147667\n",
            "F1 score train: 0.4127493316882583\n",
            "Val accuracy: 0.8517096361309198\n",
            "F1 score val: 0.40759678597516436\n",
            "Epoch 1\n",
            "Train accuracy: 0.8603384114235019\n",
            "F1 score train: 0.4260447252334367\n",
            "Val accuracy: 0.8563418053269946\n",
            "F1 score val: 0.41571641051065944\n",
            "Epoch 2\n",
            "Train accuracy: 0.8626206737753157\n",
            "F1 score train: 0.4326448419080116\n",
            "Val accuracy: 0.8579874443834948\n",
            "F1 score val: 0.42111801242236024\n",
            "Epoch 3\n",
            "Train accuracy: 0.8640191520413381\n",
            "F1 score train: 0.4375\n",
            "Val accuracy: 0.8585969403303468\n",
            "F1 score val: 0.42245456808563603\n",
            "Epoch 4\n",
            "Train accuracy: 0.8653397489511413\n",
            "F1 score train: 0.4411624181445154\n",
            "Val accuracy: 0.8599378314134211\n",
            "F1 score val: 0.42521260630315155\n"
          ]
        },
        {
          "data": {
            "image/png": "[encoded data removed]",
            "text/plain": [
              "<Figure size 640x480 with 1 Axes>"
            ]
          },
          "metadata": {},
          "output_type": "display_data"
        }
      ],
      "source": [
        "train_log = []\n",
        "val_log = []\n",
        "\n",
        "for epoch in range(5):\n",
        "    for x_batch, y_batch in iterate_minibatches(\n",
        "        x_train_temp, y_train, batchsize=1000, shuffle=True\n",
        "    ):\n",
        "        train(network, x_batch, y_batch)\n",
        "\n",
        "    train_log.append(np.mean(predict(network, x_train_temp) == y_train))\n",
        "    val_log.append(np.mean(predict(network, x_val_temp) == y_val))\n",
        "\n",
        "    f1_val = f1_score(y_val, predict(network, x_val_temp))\n",
        "    f1_train = f1_score(y_train, predict(network, x_train_temp))\n",
        "\n",
        "    # return the best model from the cv according to the f1 score\n",
        "    print(\"Epoch\", epoch)\n",
        "    print(\"Train accuracy:\", train_log[-1])\n",
        "    print(\"F1 score train:\", f1_train)\n",
        "    print(\"Val accuracy:\", val_log[-1])\n",
        "    print(\"F1 score val:\", f1_val)\n",
        "\n",
        "plt.plot(train_log, label=\"train accuracy\")\n",
        "plt.plot(val_log, label=\"val accuracy\")\n",
        "plt.legend(loc=\"best\")\n",
        "plt.grid()\n",
        "plt.show()\n"
      ]
    },
    {
      "cell_type": "code",
      "execution_count": 35,
      "metadata": {},
      "outputs": [
        {
          "data": {
            "text/plain": [
              "(array([-1,  1]), array([92750, 16629]))"
            ]
          },
          "execution_count": 35,
          "metadata": {},
          "output_type": "execute_result"
        }
      ],
      "source": [
        "y_predict = predict(network, x_test_temp)\n",
        "y_predict[np.where(y_predict == 0)] = -1\n",
        "np.unique(y_predict, return_counts=True)"
      ]
    }
  ],
  "metadata": {
    "colab": {
      "provenance": []
    },
    "kernelspec": {
      "display_name": "Python 3 (ipykernel)",
      "language": "python",
      "name": "python3"
    },
    "language_info": {
      "codemirror_mode": {
        "name": "ipython",
        "version": 3
      },
      "file_extension": ".py",
      "mimetype": "text/x-python",
      "name": "python",
      "nbconvert_exporter": "python",
      "pygments_lexer": "ipython3",
      "version": "3.9.16"
    },
    "toc": {
      "colors": {
        "hover_highlight": "#DAA520",
        "navigate_num": "#000000",
        "navigate_text": "#333333",
        "running_highlight": "#FF0000",
        "selected_highlight": "#FFD700",
        "sidebar_border": "#EEEEEE",
        "wrapper_background": "#FFFFFF"
      },
      "moveMenuLeft": true,
      "nav_menu": {
        "height": "264px",
        "width": "252px"
      },
      "navigate_menu": true,
      "number_sections": true,
      "sideBar": true,
      "threshold": 4,
      "toc_cell": false,
      "toc_section_display": "block",
      "toc_window_display": false,
      "widenNotebook": false
    }
  },
  "nbformat": 4,
  "nbformat_minor": 0
}
