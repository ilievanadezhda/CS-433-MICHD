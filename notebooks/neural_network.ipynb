{
  "cells": [
    {
      "cell_type": "code",
      "execution_count": 1,
      "metadata": {},
      "outputs": [],
      "source": [
        "%load_ext autoreload\n",
        "%autoreload 2\n"
      ]
    },
    {
      "cell_type": "code",
      "execution_count": 2,
      "metadata": {},
      "outputs": [],
      "source": [
        "import sys\n",
        "\n",
        "sys.path.append(\"../\")\n",
        "# add ../ to path"
      ]
    },
    {
      "cell_type": "code",
      "execution_count": 3,
      "metadata": {},
      "outputs": [],
      "source": [
        "from helpers import load_csv_data, create_csv_submission\n",
        "from feature_processing import (\n",
        "    drop_columns,\n",
        "    drop_correlated_columns,\n",
        "    drop_single_value_columns,\n",
        "    median_imputation,\n",
        "    mean_imputation,\n",
        "    standardize,\n",
        "    build_poly,\n",
        "    build_k_indices,\n",
        "    build_log,\n",
        "    build_ratios,\n",
        "    remove_outliers,\n",
        ")\n",
        "import matplotlib.pyplot as plt\n",
        "from cross_validation import f1_score\n",
        "from neural_network import (\n",
        "    Fully_connected,\n",
        "    ReLU,\n",
        "    train,\n",
        "    predict,\n",
        "    iterate_minibatches,\n",
        "    cross_validation_nn,\n",
        ")\n",
        "import numpy as np\n",
        "\n",
        "np.random.seed(0)"
      ]
    },
    {
      "cell_type": "code",
      "execution_count": 4,
      "metadata": {},
      "outputs": [],
      "source": [
        "x_train, x_test, Y_train, train_ids, test_ids = load_csv_data(\"../../data\")\n",
        "\n",
        "split_ratio = 0.9\n",
        "split_index = int(len(x_train) * split_ratio)\n"
      ]
    },
    {
      "cell_type": "code",
      "execution_count": 5,
      "metadata": {},
      "outputs": [],
      "source": [
        "X_train = x_train[:split_index]\n",
        "y_train = Y_train[:split_index]\n",
        "\n",
        "X_val = x_train[split_index:]\n",
        "y_val = Y_train[split_index:]"
      ]
    },
    {
      "cell_type": "code",
      "execution_count": 6,
      "metadata": {},
      "outputs": [],
      "source": [
        "y_train[np.where(y_train == -1)] = 0\n",
        "y_val[np.where(y_val == -1)] = 0"
      ]
    },
    {
      "cell_type": "code",
      "execution_count": 7,
      "metadata": {},
      "outputs": [],
      "source": [
        "### Column dropping and imputation ###\n",
        "# threshold for drop_columns function\n",
        "DROP_NAN_THRESHOLD = 1  # 1 = keep everything, 0 = drop everything that contains nan\n",
        "# threshold for categorical/numerical (categorical are imputated with median, numerical with mean)\n",
        "CAT_NUM_THRESHOLD = 200\n",
        "# flag for drop_single_value_columns function\n",
        "# Should always be True, otherwise it is messing up with the correlation coefficient.\n",
        "DROP_SINGLE = True\n",
        "# threshold for drop_correlated_columns function\n",
        "DROP_CORR_THRESHOLD = 0.9\n",
        "# remove outliers\n",
        "REMOVE_OUTLIERS = False\n",
        "### Feature processing ###\n",
        "# flag for build_poly function\n",
        "BUILD_POLY = False\n",
        "# degree for build_poly function\n",
        "DEGREE = 2\n",
        "# flag for build_log function\n",
        "BUILD_LOG = False\n",
        "# flag for build_x\n",
        "BUILD_RATIOS = False\n",
        "# flag for standardize function\n",
        "STANDARDIZE = True\n"
      ]
    },
    {
      "cell_type": "code",
      "execution_count": 8,
      "metadata": {},
      "outputs": [],
      "source": [
        "x_train_temp = X_train.copy()\n",
        "x_val_temp = X_val.copy()\n",
        "x_test_temp = x_test.copy()"
      ]
    },
    {
      "cell_type": "code",
      "execution_count": 9,
      "metadata": {},
      "outputs": [
        {
          "name": "stdout",
          "output_type": "stream",
          "text": [
            "Dropping columns with DROP_NAN_THRESHOLD = 1...\n",
            "(295321, 321)\n",
            "Dropping single valued columns...\n",
            "Standardizing...\n"
          ]
        }
      ],
      "source": [
        "x_train_temp, cols_to_keep_1 = drop_columns(x_train_temp, DROP_NAN_THRESHOLD)\n",
        "x_val_temp = x_val_temp[:, cols_to_keep_1]\n",
        "x_test_temp = x_test_temp[:, cols_to_keep_1]\n",
        "print(f\"Dropping columns with DROP_NAN_THRESHOLD = {DROP_NAN_THRESHOLD}...\")\n",
        "\n",
        "# Identify categorical and numerical features\n",
        "# categorical and numerical features\n",
        "categorical_features = []\n",
        "numerical_features = []\n",
        "# find categorical and numerical features\n",
        "for i, feature in enumerate(x_train_temp.T):\n",
        "    if np.unique(feature).shape[0] < CAT_NUM_THRESHOLD:\n",
        "        categorical_features.append(i)\n",
        "    else:\n",
        "        numerical_features.append(i)\n",
        "# fill in missing values on the train and test\n",
        "x_train_temp[:, categorical_features] = median_imputation(\n",
        "    x_train_temp[:, categorical_features]\n",
        ")\n",
        "x_val_temp[:, categorical_features] = median_imputation(\n",
        "    x_val_temp[:, categorical_features]\n",
        ")\n",
        "x_train_temp[:, numerical_features] = mean_imputation(\n",
        "    x_train_temp[:, numerical_features]\n",
        ")\n",
        "x_val_temp[:, numerical_features] = mean_imputation(x_val_temp[:, numerical_features])\n",
        "x_test_temp[:, categorical_features] = median_imputation(\n",
        "    x_test_temp[:, categorical_features]\n",
        ")\n",
        "x_test_temp[:, numerical_features] = mean_imputation(x_test_temp[:, numerical_features])\n",
        "\n",
        "if REMOVE_OUTLIERS:\n",
        "    low_perc = np.percentile(x_train_temp, 2, axis=0)\n",
        "    high_perc = np.percentile(x_train_temp, 100 - 2, axis=0)\n",
        "    x_train_temp = remove_outliers(x_train_temp, low_perc, high_perc)\n",
        "    x_val_temp = remove_outliers(x_val_temp, low_perc, high_perc)\n",
        "    x_test_temp = remove_outliers(x_test_temp, low_perc, high_perc)\n",
        "\n",
        "# Data engineering: ratios, log-transform, polynomial features\n",
        "if BUILD_RATIOS:\n",
        "    print(\"Building ratios...\")\n",
        "    ratio_features_train = build_ratios(x_train_temp[:, numerical_features])\n",
        "    ratio_features_val = build_ratios(x_val_temp[:, numerical_features])\n",
        "    ratio_features_test = build_ratios(x_test_temp[:, numerical_features])\n",
        "    x_train_temp = np.hstack((x_train_temp, ratio_features_train))\n",
        "    x_val_temp = np.hstack((x_val_temp, ratio_features_val))\n",
        "    x_test_temp = np.hstack((x_test_temp, ratio_features_test))\n",
        "\n",
        "if BUILD_LOG:\n",
        "    print(\"Building log...\")\n",
        "    log_features_train = build_log(x_train_temp[:, numerical_features])\n",
        "    log_features_val = build_log(x_val_temp[:, numerical_features])\n",
        "    log_features_test = build_log(x_test_temp[:, numerical_features])\n",
        "    x_train_temp = np.hstack((x_train_temp, log_features_train))\n",
        "    x_val_temp = np.hstack((x_val_temp, log_features_val))\n",
        "    x_test_temp = np.hstack((x_test_temp, log_features_test))\n",
        "\n",
        "if BUILD_POLY:\n",
        "    print(\"Building polynomial features...\")\n",
        "    x_train_temp = build_poly(x_train_temp, 2)\n",
        "    x_val_temp = build_poly(x_val_temp, 2)\n",
        "    x_test_temp = build_poly(x_test_temp, 2)\n",
        "print(x_train_temp.shape)\n",
        "\n",
        "# Drop columns with a single unique value or highly correlated columns\n",
        "if DROP_SINGLE:\n",
        "    x_train_temp, cols_to_keep_3 = drop_single_value_columns(x_train_temp)\n",
        "    x_test_temp = x_test_temp[:, cols_to_keep_3]\n",
        "    x_val_temp = x_val_temp[:, cols_to_keep_3]\n",
        "    print(\"Dropping single valued columns...\")\n",
        "\n",
        "x_train_temp, cols_to_keep_2 = drop_correlated_columns(\n",
        "    x_train_temp, DROP_CORR_THRESHOLD\n",
        ")\n",
        "x_val_temp = x_val_temp[:, cols_to_keep_2]\n",
        "x_test_temp = x_test_temp[:, cols_to_keep_2]\n",
        "\n",
        "# Standardize the datasets\n",
        "if STANDARDIZE:\n",
        "    print(\"Standardizing...\")\n",
        "    x_train_temp = standardize(x_train_temp)\n",
        "    x_val_temp = standardize(x_val_temp)\n",
        "    x_test_temp = standardize(x_test_temp)"
      ]
    },
    {
      "cell_type": "code",
      "execution_count": 10,
      "metadata": {},
      "outputs": [
        {
          "name": "stdout",
          "output_type": "stream",
          "text": [
            "Cross validation fold 1/5\n",
            "F1 score: 0.4144179123794733\n",
            "Accuracy: 0.8467933089530001\n",
            "Cross validation fold 2/5\n",
            "F1 score: 0.4086825365597745\n",
            "Accuracy: 0.8473350941351754\n",
            "Cross validation fold 3/5\n"
          ]
        },
        {
          "ename": "KeyboardInterrupt",
          "evalue": "",
          "output_type": "error",
          "traceback": [
            "\u001b[0;31m---------------------------------------------------------------------------\u001b[0m",
            "\u001b[0;31mKeyboardInterrupt\u001b[0m                         Traceback (most recent call last)",
            "\u001b[1;32m/home/stef/Desktop/School/EPFL/CS-433 Machine Learning/ML_course/projects/project1/ML-Project-1/notebooks/neural_network.ipynb Cell 10\u001b[0m line \u001b[0;36m4\n\u001b[1;32m      <a href='vscode-notebook-cell:/home/stef/Desktop/School/EPFL/CS-433%20Machine%20Learning/ML_course/projects/project1/ML-Project-1/notebooks/neural_network.ipynb#X12sZmlsZQ%3D%3D?line=1'>2</a>\u001b[0m \u001b[39m# build k_indices for cross validation\u001b[39;00m\n\u001b[1;32m      <a href='vscode-notebook-cell:/home/stef/Desktop/School/EPFL/CS-433%20Machine%20Learning/ML_course/projects/project1/ML-Project-1/notebooks/neural_network.ipynb#X12sZmlsZQ%3D%3D?line=2'>3</a>\u001b[0m k_indices \u001b[39m=\u001b[39m build_k_indices(y_train, NUM_FOLDS, \u001b[39m42\u001b[39m)\n\u001b[0;32m----> <a href='vscode-notebook-cell:/home/stef/Desktop/School/EPFL/CS-433%20Machine%20Learning/ML_course/projects/project1/ML-Project-1/notebooks/neural_network.ipynb#X12sZmlsZQ%3D%3D?line=3'>4</a>\u001b[0m cross_validation_nn(y_train, x_train_temp, k_indices)\n",
            "File \u001b[0;32m~/Desktop/School/EPFL/CS-433 Machine Learning/ML_course/projects/project1/ML-Project-1/notebooks/../neural_network.py:244\u001b[0m, in \u001b[0;36mcross_validation_nn\u001b[0;34m(y, tx, k_indices)\u001b[0m\n\u001b[1;32m    240\u001b[0m \u001b[39mfor\u001b[39;00m epoch \u001b[39min\u001b[39;00m \u001b[39mrange\u001b[39m(\u001b[39m5\u001b[39m):\n\u001b[1;32m    241\u001b[0m     \u001b[39mfor\u001b[39;00m x_batch, y_batch \u001b[39min\u001b[39;00m iterate_minibatches(\n\u001b[1;32m    242\u001b[0m         x_train, y_train, batchsize\u001b[39m=\u001b[39m\u001b[39m1000\u001b[39m, shuffle\u001b[39m=\u001b[39m\u001b[39mTrue\u001b[39;00m\n\u001b[1;32m    243\u001b[0m     ):\n\u001b[0;32m--> 244\u001b[0m         train(network, x_batch, y_batch)\n\u001b[1;32m    245\u001b[0m \u001b[39m# predict\u001b[39;00m\n\u001b[1;32m    246\u001b[0m y_pred \u001b[39m=\u001b[39m predict(network, x_test)\n",
            "File \u001b[0;32m~/Desktop/School/EPFL/CS-433 Machine Learning/ML_course/projects/project1/ML-Project-1/notebooks/../neural_network.py:185\u001b[0m, in \u001b[0;36mtrain\u001b[0;34m(network, X, y)\u001b[0m\n\u001b[1;32m    174\u001b[0m \u001b[39mdef\u001b[39;00m \u001b[39mtrain\u001b[39m(network, X, y):\n\u001b[1;32m    175\u001b[0m \u001b[39m    \u001b[39m\u001b[39m\"\"\"\u001b[39;00m\n\u001b[1;32m    176\u001b[0m \u001b[39m    Train your network on a given batch of X and y only once.\u001b[39;00m\n\u001b[1;32m    177\u001b[0m \u001b[39m    Here are the steps to train once:\u001b[39;00m\n\u001b[0;32m   (...)\u001b[0m\n\u001b[1;32m    182\u001b[0m \u001b[39m    Note that after you called backward for all layers, the layers with trainable parameters should have already updated.\u001b[39;00m\n\u001b[1;32m    183\u001b[0m \u001b[39m    \"\"\"\u001b[39;00m\n\u001b[0;32m--> 185\u001b[0m     layer_outputs \u001b[39m=\u001b[39m forward(network, X)\n\u001b[1;32m    187\u001b[0m     layer_inputs \u001b[39m=\u001b[39m [\n\u001b[1;32m    188\u001b[0m         X\n\u001b[1;32m    189\u001b[0m     ] \u001b[39m+\u001b[39m layer_outputs  \u001b[39m# layer_inputs = [X, Layer 1 Output, Layer 2 Output, Layer 3 Output, Layer 4 Output, Layer 5 Output]\u001b[39;00m\n\u001b[1;32m    191\u001b[0m     logits \u001b[39m=\u001b[39m layer_outputs[\u001b[39m-\u001b[39m\u001b[39m1\u001b[39m]\n",
            "File \u001b[0;32m~/Desktop/School/EPFL/CS-433 Machine Learning/ML_course/projects/project1/ML-Project-1/notebooks/../neural_network.py:157\u001b[0m, in \u001b[0;36mforward\u001b[0;34m(network, X)\u001b[0m\n\u001b[1;32m    154\u001b[0m \u001b[39minput\u001b[39m \u001b[39m=\u001b[39m X\n\u001b[1;32m    156\u001b[0m \u001b[39mfor\u001b[39;00m layer \u001b[39min\u001b[39;00m network:\n\u001b[0;32m--> 157\u001b[0m     outputs\u001b[39m.\u001b[39mappend(layer\u001b[39m.\u001b[39;49mforward(\u001b[39minput\u001b[39;49m))\n\u001b[1;32m    158\u001b[0m     \u001b[39minput\u001b[39m \u001b[39m=\u001b[39m layer\u001b[39m.\u001b[39mforward(\u001b[39minput\u001b[39m)\n\u001b[1;32m    160\u001b[0m \u001b[39massert\u001b[39;00m \u001b[39mlen\u001b[39m(outputs) \u001b[39m==\u001b[39m \u001b[39mlen\u001b[39m(network)\n",
            "File \u001b[0;32m~/Desktop/School/EPFL/CS-433 Machine Learning/ML_course/projects/project1/ML-Project-1/notebooks/../neural_network.py:92\u001b[0m, in \u001b[0;36mFully_connected.forward\u001b[0;34m(self, input)\u001b[0m\n\u001b[1;32m     84\u001b[0m \u001b[39mdef\u001b[39;00m \u001b[39mforward\u001b[39m(\u001b[39mself\u001b[39m, \u001b[39minput\u001b[39m):\n\u001b[1;32m     85\u001b[0m \u001b[39m    \u001b[39m\u001b[39m\"\"\"\u001b[39;00m\n\u001b[1;32m     86\u001b[0m \u001b[39m    Perform f(x) = <x*W> + b .\u001b[39;00m\n\u001b[1;32m     87\u001b[0m \n\u001b[1;32m     88\u001b[0m \u001b[39m    input shape: [batch, input_dims]\u001b[39;00m\n\u001b[1;32m     89\u001b[0m \u001b[39m    output shape: [batch, output_dims]\u001b[39;00m\n\u001b[1;32m     90\u001b[0m \u001b[39m    \"\"\"\u001b[39;00m\n\u001b[0;32m---> 92\u001b[0m     output \u001b[39m=\u001b[39m np\u001b[39m.\u001b[39;49mdot(\u001b[39minput\u001b[39;49m, \u001b[39mself\u001b[39;49m\u001b[39m.\u001b[39;49mweights) \u001b[39m+\u001b[39m \u001b[39mself\u001b[39m\u001b[39m.\u001b[39mbiases\n\u001b[1;32m     94\u001b[0m     \u001b[39mreturn\u001b[39;00m output\n",
            "File \u001b[0;32m<__array_function__ internals>:180\u001b[0m, in \u001b[0;36mdot\u001b[0;34m(*args, **kwargs)\u001b[0m\n",
            "\u001b[0;31mKeyboardInterrupt\u001b[0m: "
          ]
        }
      ],
      "source": [
        "NUM_FOLDS = 5\n",
        "# build k_indices for cross validation\n",
        "k_indices = build_k_indices(y_train, NUM_FOLDS, 42)\n",
        "cross_validation_nn(y_train, x_train_temp, k_indices)"
      ]
    },
    {
      "cell_type": "code",
      "execution_count": 16,
      "metadata": {},
      "outputs": [],
      "source": [
        "# build neural network\n",
        "network = []\n",
        "network.append(Fully_connected(x_train_temp.shape[1], 128))\n",
        "network.append(ReLU())\n",
        "network.append(Fully_connected(128, 2))"
      ]
    },
    {
      "cell_type": "code",
      "execution_count": 17,
      "metadata": {
        "colab": {
          "base_uri": "https://localhost:8080/",
          "height": 481
        },
        "collapsed": true,
        "id": "3FOu8r1Qjw8H",
        "outputId": "1f76da29-96ca-4518-9499-b6a324cf898c"
      },
      "outputs": [
        {
          "name": "stdout",
          "output_type": "stream",
          "text": [
            "Epoch 0\n",
            "Train accuracy: 0.8543957253293873\n",
            "F1 score train: 0.4184945771238472\n",
            "Val accuracy: 0.8493326019381972\n",
            "F1 score val: 0.4034749034749035\n",
            "Epoch 1\n",
            "Train accuracy: 0.8599388462046383\n",
            "F1 score train: 0.42934205261923486\n",
            "Val accuracy: 0.8540866703236424\n",
            "F1 score val: 0.40888888888888886\n",
            "Epoch 2\n",
            "Train accuracy: 0.8617978403161306\n",
            "F1 score train: 0.43503778965144924\n",
            "Val accuracy: 0.8554885110014019\n",
            "F1 score val: 0.4135542913677962\n",
            "Epoch 3\n",
            "Train accuracy: 0.8625800400242448\n",
            "F1 score train: 0.4378852306882557\n",
            "Val accuracy: 0.8555799353934296\n",
            "F1 score val: 0.41544344393733806\n",
            "Epoch 4\n",
            "Train accuracy: 0.8638193694319063\n",
            "F1 score train: 0.44179493941454884\n",
            "Val accuracy: 0.8557932589748278\n",
            "F1 score val: 0.4156581872067177\n"
          ]
        },
        {
          "data": {
            "image/png": "[encoded data removed]",
            "text/plain": [
              "<Figure size 640x480 with 1 Axes>"
            ]
          },
          "metadata": {},
          "output_type": "display_data"
        }
      ],
      "source": [
        "train_log = []\n",
        "val_log = []\n",
        "\n",
        "for epoch in range(5):\n",
        "    for x_batch, y_batch in iterate_minibatches(\n",
        "        x_train_temp, y_train, batchsize=1000, shuffle=True\n",
        "    ):\n",
        "        train(network, x_batch, y_batch)\n",
        "\n",
        "    train_log.append(np.mean(predict(network, x_train_temp) == y_train))\n",
        "    val_log.append(np.mean(predict(network, x_val_temp) == y_val))\n",
        "\n",
        "    f1_val = f1_score(y_val, predict(network, x_val_temp))\n",
        "    f1_train = f1_score(y_train, predict(network, x_train_temp))\n",
        "\n",
        "    # return the best model from the cv according to the f1 score\n",
        "    print(\"Epoch\", epoch)\n",
        "    print(\"Train accuracy:\", train_log[-1])\n",
        "    print(\"F1 score train:\", f1_train)\n",
        "    print(\"Val accuracy:\", val_log[-1])\n",
        "    print(\"F1 score val:\", f1_val)\n",
        "\n",
        "plt.plot(train_log, label=\"train accuracy\")\n",
        "plt.plot(val_log, label=\"val accuracy\")\n",
        "plt.legend(loc=\"best\")\n",
        "plt.grid()\n",
        "plt.show()"
      ]
    },
    {
      "cell_type": "code",
      "execution_count": 18,
      "metadata": {},
      "outputs": [
        {
          "data": {
            "text/plain": [
              "(array([-1,  1]), array([92323, 17056]))"
            ]
          },
          "execution_count": 18,
          "metadata": {},
          "output_type": "execute_result"
        }
      ],
      "source": [
        "y_predict = predict(network, x_test_temp)\n",
        "y_predict[np.where(y_predict == 0)] = -1\n",
        "np.unique(y_predict, return_counts=True)\n"
      ]
    },
    {
      "cell_type": "code",
      "execution_count": 26,
      "metadata": {},
      "outputs": [],
      "source": [
        "# # predict\n",
        "# y_pred = predict(network, x_test_temp)\n",
        "# y_pred[np.where(y_pred == 0)] = -1\n",
        "# create_csv_submission(test_ids, y_pred, \"neural_net.csv\")"
      ]
    }
  ],
  "metadata": {
    "colab": {
      "provenance": []
    },
    "kernelspec": {
      "display_name": "Python 3 (ipykernel)",
      "language": "python",
      "name": "python3"
    },
    "language_info": {
      "codemirror_mode": {
        "name": "ipython",
        "version": 3
      },
      "file_extension": ".py",
      "mimetype": "text/x-python",
      "name": "python",
      "nbconvert_exporter": "python",
      "pygments_lexer": "ipython3",
      "version": "3.9.16"
    },
    "toc": {
      "colors": {
        "hover_highlight": "#DAA520",
        "navigate_num": "#000000",
        "navigate_text": "#333333",
        "running_highlight": "#FF0000",
        "selected_highlight": "#FFD700",
        "sidebar_border": "#EEEEEE",
        "wrapper_background": "#FFFFFF"
      },
      "moveMenuLeft": true,
      "nav_menu": {
        "height": "264px",
        "width": "252px"
      },
      "navigate_menu": true,
      "number_sections": true,
      "sideBar": true,
      "threshold": 4,
      "toc_cell": false,
      "toc_section_display": "block",
      "toc_window_display": false,
      "widenNotebook": false
    }
  },
  "nbformat": 4,
  "nbformat_minor": 0
}
