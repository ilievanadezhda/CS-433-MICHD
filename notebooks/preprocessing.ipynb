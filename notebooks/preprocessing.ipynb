{
 "cells": [
  {
   "cell_type": "code",
   "execution_count": null,
   "metadata": {},
   "outputs": [],
   "source": [
    "%load_ext autoreload\n",
    "%autoreload 2\n"
   ]
  },
  {
   "cell_type": "code",
   "execution_count": null,
   "metadata": {},
   "outputs": [],
   "source": [
    "from feature_processing import (\n",
    "    mean_imputation,\n",
    "    median_imputation,\n",
    "    standardize,\n",
    "    drop_columns,\n",
    "    drop_correlated_columns,\n",
    "    drop_single_value_columns,\n",
    ")\n",
    "import seaborn as sns\n",
    "import matplotlib.pyplot as plt\n",
    "from helpers import *\n",
    "import numpy as np\n",
    "\n",
    "import sys\n",
    "\n",
    "sys.path.append(\"..\")"
   ]
  },
  {
   "cell_type": "code",
   "execution_count": null,
   "metadata": {},
   "outputs": [],
   "source": [
    "x_train, x_test, y_train, train_ids, test_ids = load_csv_data(\"../../data/\")\n",
    "\n",
    "x_train_temp = x_train.copy()\n",
    "x_test_temp = x_test.copy()\n",
    "\n",
    "x_train_temp, cols_to_keep_1 = drop_columns(x_train, 0.2)\n",
    "\n",
    "x_train_temp, cols_to_keep_2 = drop_correlated_columns(x_train_temp, 0.85)\n",
    "\n",
    "x_train_temp, cols_to_keep_3 = drop_single_value_columns(x_train_temp)\n",
    "\n",
    "# apply the same column selection to x_test\n",
    "x_test_temp = x_test[:, cols_to_keep_1]\n",
    "x_test_temp = x_test_temp[:, cols_to_keep_2]\n",
    "x_test_temp = x_test_temp[:, cols_to_keep_3]\n",
    "\n",
    "categorical_features = []\n",
    "numerical_features = []\n",
    "\n",
    "# find categorical and numerical features\n",
    "for i, feature in enumerate(x_train_temp.T):\n",
    "    if (\n",
    "        np.unique(feature).shape[0] < 30\n",
    "    ):  # the columns with <30 unique values are considered categorical\n",
    "        categorical_features.append(i)\n",
    "    else:\n",
    "        numerical_features.append(i)\n",
    "\n",
    "x_train_temp[:, categorical_features] = median_imputation(\n",
    "    x_train_temp[:, categorical_features]\n",
    ")\n",
    "x_test_temp[:, categorical_features] = median_imputation(\n",
    "    x_test_temp[:, categorical_features]\n",
    ")\n",
    "x_train_temp[:, numerical_features] = mean_imputation(\n",
    "    x_train_temp[:, numerical_features]\n",
    ")\n",
    "x_test_temp[:, numerical_features] = mean_imputation(\n",
    "    x_test_temp[:, numerical_features])\n",
    "\n",
    "x_train_temp = standardize(x_train_temp)\n",
    "x_test_temp = standardize(x_test_temp)\n"
   ]
  },
  {
   "cell_type": "code",
   "execution_count": null,
   "metadata": {},
   "outputs": [],
   "source": []
  }
 ],
 "metadata": {
  "kernelspec": {
   "display_name": "base",
   "language": "python",
   "name": "python3"
  },
  "language_info": {
   "codemirror_mode": {
    "name": "ipython",
    "version": 3
   },
   "file_extension": ".py",
   "mimetype": "text/x-python",
   "name": "python",
   "nbconvert_exporter": "python",
   "pygments_lexer": "ipython3",
   "version": "3.9.18"
  }
 },
 "nbformat": 4,
 "nbformat_minor": 2
}
