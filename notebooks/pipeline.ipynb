{
   "cells": [
      {
         "attachments": {},
         "cell_type": "markdown",
         "metadata": {},
         "source": [
            "### Experiment pipeline"
         ]
      },
      {
         "cell_type": "code",
         "execution_count": 41,
         "metadata": {},
         "outputs": [],
         "source": [
            "import sys\n",
            "sys.path.append('../')\n",
            "import numpy as np\n",
            "# add ../ to path\n",
            "from helpers import (\n",
            "    load_csv_data\n",
            ")  \n",
            "from feature_processing import (\n",
            "    drop_columns,\n",
            "    drop_correlated_columns,\n",
            "    drop_single_value_columns,\n",
            "    median_imputation,\n",
            "    mean_imputation,\n",
            "    standardize,\n",
            "    build_poly,\n",
            "    build_k_indices\n",
            ")\n",
            "from cross_validation import (\n",
            "    predict_mse,\n",
            "    predict_logistic,\n",
            "    accuracy,\n",
            "    f1_score,\n",
            "    print_results,\n",
            "    cross_validation\n",
            ")\n",
            "from implementations import (\n",
            "    mean_squared_error_gd,\n",
            "    mean_squared_error_sgd,\n",
            "    least_squares,\n",
            "    ridge_regression,\n",
            "    logistic_regression,\n",
            "    reg_logistic_regression\n",
            ")\n",
            "from implementations_utils import (\n",
            "    compute_loss_mse, \n",
            "    compute_loss_logistic)"
         ]
      },
      {
         "cell_type": "code",
         "execution_count": 2,
         "metadata": {},
         "outputs": [
            {
               "name": "stdout",
               "output_type": "stream",
               "text": [
                  "Loading data...\n",
                  "Data loaded...\n"
               ]
            }
         ],
         "source": [
            "print(\"Loading data...\")\n",
            "x_train, x_test, y_train, train_ids, test_ids = load_csv_data(\"../../data/\")\n",
            "print(\"Data loaded...\")"
         ]
      },
      {
         "cell_type": "code",
         "execution_count": 3,
         "metadata": {},
         "outputs": [
            {
               "name": "stdout",
               "output_type": "stream",
               "text": [
                  "x_train.shape = (328135, 321)\n",
                  "x_test.shape = (109379, 321)\n",
                  "y_train.shape = (328135,)\n",
                  "train_ids.shape = (328135,)\n",
                  "test_ids.shape = (109379,)\n"
               ]
            }
         ],
         "source": [
            "print(\"x_train.shape =\", x_train.shape)\n",
            "print(\"x_test.shape =\", x_test.shape)\n",
            "print(\"y_train.shape =\", y_train.shape)\n",
            "print(\"train_ids.shape =\", train_ids.shape)\n",
            "print(\"test_ids.shape =\", test_ids.shape)"
         ]
      },
      {
         "cell_type": "code",
         "execution_count": 4,
         "metadata": {},
         "outputs": [],
         "source": [
            "# replace -1 with 0 in y_train\n",
            "y_train[np.where(y_train == -1)] = 0"
         ]
      },
      {
         "attachments": {},
         "cell_type": "markdown",
         "metadata": {},
         "source": [
            "### Feature engineering"
         ]
      },
      {
         "cell_type": "code",
         "execution_count": 5,
         "metadata": {},
         "outputs": [],
         "source": [
            "# threshold for drop_columns function\n",
            "DROP_NAN_THRESHOLD = 0.2\n",
            "# threshold for drop_correlated_columns function\n",
            "DROP_CORR_THRESHOLD = 0.85\n",
            "# flag for drop_single_value_columns function\n",
            "DROP_SINGLE = True\n",
            "# threshold for categorical/numerical (categorical are imputated with median, numerical with mean)\n",
            "CAT_NUM_THRESHOLD = 30\n",
            "# flag for build_poly function\n",
            "BUILD_POLY = False\n",
            "# degree for build_poly function\n",
            "DEGREE = 2\n",
            "# flag for standardize function\n",
            "STANDARDIZE = True"
         ]
      },
      {
         "cell_type": "code",
         "execution_count": 6,
         "metadata": {},
         "outputs": [],
         "source": [
            "# copy data\n",
            "x_train_temp = x_train.copy()\n",
            "x_test_temp = x_test.copy()"
         ]
      },
      {
         "cell_type": "code",
         "execution_count": 7,
         "metadata": {},
         "outputs": [],
         "source": [
            "# drop_columns on x_train\n",
            "x_train_temp, cols_to_keep_1 = drop_columns(x_train, DROP_NAN_THRESHOLD)\n",
            "print(f\"Dropping columns with DROP_NAN_THRESHOLD = {DROP_NAN_THRESHOLD}...\")\n",
            "# drop_correlated_columns on x_train\n",
            "x_train_temp, cols_to_keep_2 = drop_correlated_columns(x_train_temp, DROP_CORR_THRESHOLD)\n",
            "print(f\"Dropping columns with DROP_CORR_THRESHOLD = {DROP_CORR_THRESHOLD}...\")\n",
            "# drop_single_value_columns on x_train\n",
            "if DROP_SINGLE:\n",
            "    x_train_temp, cols_to_keep_3 = drop_single_value_columns(x_train_temp)\n",
            "    print(\"Dropping single valued columns...\")\n",
            "# apply the same column selection to x_test\n",
            "x_test_temp = x_test[:, cols_to_keep_1]\n",
            "x_test_temp = x_test_temp[:, cols_to_keep_2]\n",
            "x_test_temp = x_test_temp[:, cols_to_keep_3]"
         ]
      },
      {
         "cell_type": "code",
         "execution_count": 8,
         "metadata": {},
         "outputs": [],
         "source": [
            "# categorical and numerical features\n",
            "categorical_features = []\n",
            "numerical_features = []\n",
            "# find categorical and numerical features\n",
            "for i, feature in enumerate(x_train_temp.T):\n",
            "    if (\n",
            "        np.unique(feature).shape[0] < CAT_NUM_THRESHOLD\n",
            "    ):\n",
            "        categorical_features.append(i)\n",
            "    else:\n",
            "        numerical_features.append(i)\n",
            "# fill in missing values on the train and test\n",
            "x_train_temp[:, categorical_features] = median_imputation(\n",
            "    x_train_temp[:, categorical_features]\n",
            ")\n",
            "x_test_temp[:, categorical_features] = median_imputation(\n",
            "    x_test_temp[:, categorical_features]\n",
            ")\n",
            "x_train_temp[:, numerical_features] = mean_imputation(\n",
            "    x_train_temp[:, numerical_features]\n",
            ")\n",
            "x_test_temp[:, numerical_features] = mean_imputation(x_test_temp[:, numerical_features])"
         ]
      },
      {
         "cell_type": "code",
         "execution_count": 9,
         "metadata": {},
         "outputs": [],
         "source": [
            "# build polynomial features\n",
            "if BUILD_POLY:\n",
            "    print(f\"Building polynomial with degree = {DEGREE}...\")\n",
            "    x_train_temp = build_poly(x_train_temp, DEGREE)\n",
            "    x_test_temp = build_poly(x_test_temp, DEGREE)"
         ]
      },
      {
         "cell_type": "code",
         "execution_count": 10,
         "metadata": {},
         "outputs": [],
         "source": [
            "# standardize\n",
            "if STANDARDIZE:\n",
            "    print(\"Standardizing...\")\n",
            "    x_train_temp = standardize(x_train_temp)\n",
            "    x_test_temp = standardize(x_test_temp)"
         ]
      },
      {
         "cell_type": "code",
         "execution_count": 61,
         "metadata": {},
         "outputs": [
            {
               "name": "stdout",
               "output_type": "stream",
               "text": [
                  "x_train_temp.shape = (328135, 110)\n",
                  "x_test_temp.shape = (109379, 110)\n"
               ]
            }
         ],
         "source": [
            "print(\"New x_train and x_test shapes\")\n",
            "print(\"x_train_temp.shape =\", x_train_temp.shape)\n",
            "print(\"x_test_temp.shape =\", x_test_temp.shape)"
         ]
      },
      {
         "attachments": {},
         "cell_type": "markdown",
         "metadata": {},
         "source": [
            "### Models"
         ]
      },
      {
         "cell_type": "code",
         "execution_count": 11,
         "metadata": {},
         "outputs": [],
         "source": [
            "# number of folds\n",
            "NUM_FOLDS = 5\n",
            "# build k_indices for cross validation\n",
            "k_indices = build_k_indices(y_train, NUM_FOLDS, 42)"
         ]
      },
      {
         "attachments": {},
         "cell_type": "markdown",
         "metadata": {},
         "source": [
            "#### Mean squared error with GD"
         ]
      },
      {
         "cell_type": "code",
         "execution_count": 54,
         "metadata": {},
         "outputs": [],
         "source": [
            "# Model parameters\n",
            "MAX_ITERS = 100\n",
            "GAMMA = 0.5\n",
            "# Model\n",
            "_mean_squared_error_gd = lambda y, tx, initial_w: mean_squared_error_gd(y, tx, initial_w, MAX_ITERS, GAMMA)"
         ]
      },
      {
         "cell_type": "code",
         "execution_count": 55,
         "metadata": {},
         "outputs": [
            {
               "name": "stdout",
               "output_type": "stream",
               "text": [
                  "Fold 1/5\n",
                  "Train loss: 9075749012592432689553414834817919664387578749276068991304647701161299673088.00000\n",
                  "Test loss: 9014456055067429320046017433763391753940360974223209709111805492850405146624.00000\n",
                  "Train accuracy: 0.46100\n",
                  "Train f1_score: 0.05258\n",
                  "Test accuracy: 0.46223\n",
                  "Test f1_score: 0.05160\n",
                  "------------------------------\n",
                  "Fold 2/5\n",
                  "Train loss: 10289978312293596914735020162589354104594649009051997685784312174501781569536.00000\n",
                  "Test loss: 10196345109396401368639023891561027377687163891438966408956748763857476911104.00000\n",
                  "Train accuracy: 0.46065\n",
                  "Train f1_score: 0.05224\n",
                  "Test accuracy: 0.46482\n",
                  "Test f1_score: 0.05372\n",
                  "------------------------------\n",
                  "Fold 3/5\n",
                  "Train loss: 1333029380650509738974151269237701118430882501818633651775734862992161898496.00000\n",
                  "Test loss: 1370668706698061270079232218156243344328197806987529686429901626070219620352.00000\n",
                  "Train accuracy: 0.45867\n",
                  "Train f1_score: 0.05176\n",
                  "Test accuracy: 0.45655\n",
                  "Test f1_score: 0.05139\n",
                  "------------------------------\n",
                  "Fold 4/5\n",
                  "Train loss: 7650905212037032321190140092883242106846324698406921476713788302550330507264.00000\n",
                  "Test loss: 7627343139789111385083369614479918386165650270305941257834569787023688728576.00000\n",
                  "Train accuracy: 0.45912\n",
                  "Train f1_score: 0.05188\n",
                  "Test accuracy: 0.45701\n",
                  "Test f1_score: 0.05082\n",
                  "------------------------------\n",
                  "Fold 5/5\n",
                  "Train loss: 12408510146633306166189209911511904544169008934454280432707410515310627782656.00000\n",
                  "Test loss: 12256633297854845018412205168050826446529541207216991026076585342263418159104.00000\n",
                  "Train accuracy: 0.46082\n",
                  "Train f1_score: 0.05213\n",
                  "Test accuracy: 0.45870\n",
                  "Test f1_score: 0.05224\n",
                  "------------------------------\n"
               ]
            }
         ],
         "source": [
            "# Cross validation\n",
            "eval_results_train, eval_results_test, losses_train, losses_test, w = cross_validation(y_train, \n",
            "                                                                                       x_train_temp, \n",
            "                                                                                       k_indices, \n",
            "                                                                                       model_fn=_mean_squared_error_gd, \n",
            "                                                                                       loss_fn=compute_loss_mse, \n",
            "                                                                                       pred_fn=predict_mse, \n",
            "                                                                                       eval_fns=dict(accuracy=accuracy, f1_score=f1_score))"
         ]
      },
      {
         "cell_type": "code",
         "execution_count": 57,
         "metadata": {},
         "outputs": [
            {
               "name": "stdout",
               "output_type": "stream",
               "text": [
                  "Train:\n",
                  "accuracy : 0.460053 ± 0.000961\n",
                  "f1_score : 0.052117 ± 0.000287\n",
                  "--------------------\n",
                  "Test:\n",
                  "accuracy : 0.459863 ± 0.003185\n",
                  "f1_score : 0.051953 ± 0.000994\n"
               ]
            }
         ],
         "source": [
            "print(\"Train:\")\n",
            "print_results(eval_results_train)\n",
            "print(\"-\"*20)\n",
            "print(\"Test:\")\n",
            "print_results(eval_results_test)"
         ]
      },
      {
         "attachments": {},
         "cell_type": "markdown",
         "metadata": {},
         "source": [
            "### Mean squared error with SGD"
         ]
      },
      {
         "cell_type": "code",
         "execution_count": 36,
         "metadata": {},
         "outputs": [],
         "source": [
            "# Model parameters\n",
            "MAX_ITERS = 100\n",
            "GAMMA = 0.5\n",
            "# Model\n",
            "_mean_squared_error_sgd = lambda y, tx, initial_w: mean_squared_error_sgd(y, tx, initial_w, MAX_ITERS, GAMMA)"
         ]
      },
      {
         "cell_type": "code",
         "execution_count": 37,
         "metadata": {},
         "outputs": [
            {
               "name": "stdout",
               "output_type": "stream",
               "text": [
                  "Fold 1/5\n",
                  "Train loss: 800524659423373871670270209025170209493176981214258735540328163903775848931590264685364243767356275323957627846656.00000\n",
                  "Test loss: 803580112432148322408097315627089307741227767058033588985410759340861889009562224202479958732521661171709461397504.00000\n",
                  "Train accuracy: 0.55595\n",
                  "Train f1_score: 0.21409\n",
                  "Test accuracy: 0.55701\n",
                  "Test f1_score: 0.21325\n",
                  "------------------------------\n",
                  "Fold 2/5\n",
                  "Train loss: 318846563870809459654359175039577103927818825211577372625530677825451102661762875392.00000\n",
                  "Test loss: 311940575846786832564010045358227196234971512037904863674548888790049698922048258048.00000\n",
                  "Train accuracy: 0.58829\n",
                  "Train f1_score: 0.22188\n",
                  "Test accuracy: 0.58583\n",
                  "Test f1_score: 0.21882\n",
                  "------------------------------\n",
                  "Fold 3/5\n",
                  "Train loss: 1460283621492348270917962639255513263335059130007938803117868446062249676065538006627385344.00000\n",
                  "Test loss: 1456537800402020210666206741206510879227013683233800811171649614545914445049982762419748864.00000\n",
                  "Train accuracy: 0.48210\n",
                  "Train f1_score: 0.20463\n",
                  "Test accuracy: 0.48006\n",
                  "Test f1_score: 0.20436\n",
                  "------------------------------\n",
                  "Fold 4/5\n",
                  "Train loss: 197658075815729240729638972975941109433238255174548906817315856829120512.00000\n",
                  "Test loss: 194445771465345996716806896722643408068264249728236451942407760116711424.00000\n",
                  "Train accuracy: 0.57065\n",
                  "Train f1_score: 0.24194\n",
                  "Test accuracy: 0.57229\n",
                  "Test f1_score: 0.24434\n",
                  "------------------------------\n",
                  "Fold 5/5\n",
                  "Train loss: 23846404668118849499221290403661915222149333425114661634731218011414450249420929245207207138874611342715390416754882032370188288.00000\n",
                  "Test loss: 23880666404954502233367186111417116129918345047872475992898391292770024471733984600027970793299332595028677837073250298485538816.00000\n",
                  "Train accuracy: 0.57052\n",
                  "Train f1_score: 0.24003\n",
                  "Test accuracy: 0.56853\n",
                  "Test f1_score: 0.24543\n",
                  "------------------------------\n"
               ]
            }
         ],
         "source": [
            "# Cross validation\n",
            "eval_results_train, eval_results_test, losses_train, losses_test, w = cross_validation(y_train, \n",
            "                                                                                       x_train_temp, \n",
            "                                                                                       k_indices, \n",
            "                                                                                       model_fn=_mean_squared_error_sgd, \n",
            "                                                                                       loss_fn=compute_loss_mse, \n",
            "                                                                                       pred_fn=predict_mse, \n",
            "                                                                                       eval_fns=dict(accuracy=accuracy, f1_score=f1_score))"
         ]
      },
      {
         "cell_type": "code",
         "execution_count": 17,
         "metadata": {},
         "outputs": [
            {
               "name": "stdout",
               "output_type": "stream",
               "text": [
                  "Train:\n",
                  "accuracy : 0.467852 ± 0.059187\n",
                  "f1_score : 0.140160 ± 0.060838\n",
                  "--------------------\n",
                  "Test:\n",
                  "accuracy : 0.469188 ± 0.057951\n",
                  "f1_score : 0.141326 ± 0.062081\n"
               ]
            }
         ],
         "source": [
            "print(\"Train:\")\n",
            "print_results(eval_results_train)\n",
            "print(\"-\"*20)\n",
            "print(\"Test:\")\n",
            "print_results(eval_results_test)"
         ]
      },
      {
         "attachments": {},
         "cell_type": "markdown",
         "metadata": {},
         "source": [
            "### Least squares"
         ]
      },
      {
         "cell_type": "code",
         "execution_count": 38,
         "metadata": {},
         "outputs": [],
         "source": [
            "_least_squares = lambda y, tx, initial_w: least_squares(y, tx)"
         ]
      },
      {
         "cell_type": "code",
         "execution_count": 39,
         "metadata": {},
         "outputs": [
            {
               "name": "stdout",
               "output_type": "stream",
               "text": [
                  "Fold 1/5\n",
                  "Train loss: 0.03854\n",
                  "Test loss: 0.03819\n",
                  "Train accuracy: 0.91139\n",
                  "Train f1_score: 0.00009\n",
                  "Test accuracy: 0.91292\n",
                  "Test f1_score: 0.00000\n",
                  "------------------------------\n",
                  "Fold 2/5\n",
                  "Train loss: 0.03861\n",
                  "Test loss: 0.03792\n",
                  "Train accuracy: 0.91131\n",
                  "Train f1_score: 0.00000\n",
                  "Test accuracy: 0.91324\n",
                  "Test f1_score: 0.00000\n",
                  "------------------------------\n",
                  "Fold 3/5\n",
                  "Train loss: 0.03843\n",
                  "Test loss: 0.03865\n",
                  "Train accuracy: 0.91183\n",
                  "Train f1_score: 0.00009\n",
                  "Test accuracy: 0.91118\n",
                  "Test f1_score: 0.00000\n",
                  "------------------------------\n",
                  "Fold 4/5\n",
                  "Train loss: 0.03842\n",
                  "Test loss: 0.03868\n",
                  "Train accuracy: 0.91185\n",
                  "Train f1_score: 0.00009\n",
                  "Test accuracy: 0.91104\n",
                  "Test f1_score: 0.00000\n",
                  "------------------------------\n",
                  "Fold 5/5\n",
                  "Train loss: 0.03832\n",
                  "Test loss: 0.03909\n",
                  "Train accuracy: 0.91210\n",
                  "Train f1_score: 0.00009\n",
                  "Test accuracy: 0.91008\n",
                  "Test f1_score: 0.00000\n",
                  "------------------------------\n"
               ]
            }
         ],
         "source": [
            "# Cross validation\n",
            "eval_results_train, eval_results_test, losses_train, losses_test, w = cross_validation(y_train, \n",
            "                                                                                       x_train_temp, \n",
            "                                                                                       k_indices, \n",
            "                                                                                       model_fn=_least_squares, \n",
            "                                                                                       loss_fn=compute_loss_mse, \n",
            "                                                                                       pred_fn=predict_mse, \n",
            "                                                                                       eval_fns=dict(accuracy=accuracy, f1_score=f1_score))"
         ]
      },
      {
         "cell_type": "code",
         "execution_count": 40,
         "metadata": {},
         "outputs": [
            {
               "name": "stdout",
               "output_type": "stream",
               "text": [
                  "Train:\n",
                  "accuracy : 0.911694 ± 0.000299\n",
                  "f1_score : 0.000069 ± 0.000035\n",
                  "--------------------\n",
                  "Test:\n",
                  "accuracy : 0.911692 ± 0.001197\n",
                  "f1_score : 0.000000 ± 0.000000\n"
               ]
            }
         ],
         "source": [
            "print(\"Train:\")\n",
            "print_results(eval_results_train)\n",
            "print(\"-\"*20)\n",
            "print(\"Test:\")\n",
            "print_results(eval_results_test)"
         ]
      },
      {
         "attachments": {},
         "cell_type": "markdown",
         "metadata": {},
         "source": [
            "### Ridge regression"
         ]
      },
      {
         "cell_type": "code",
         "execution_count": 21,
         "metadata": {},
         "outputs": [],
         "source": [
            "LAMBDA_ = 0.1\n",
            "_ridge_regression = lambda y, tx, initial_w: ridge_regression(y, tx, LAMBDA_)"
         ]
      },
      {
         "cell_type": "code",
         "execution_count": 22,
         "metadata": {},
         "outputs": [
            {
               "name": "stdout",
               "output_type": "stream",
               "text": [
                  "Fold 1/5\n",
                  "Train loss: 0.03860\n",
                  "Test loss: 0.03820\n",
                  "Train accuracy: 0.91139\n",
                  "Train f1_score: 0.00000\n",
                  "Test accuracy: 0.91292\n",
                  "Test f1_score: 0.00000\n",
                  "------------------------------\n",
                  "Fold 2/5\n",
                  "Train loss: 0.03867\n",
                  "Test loss: 0.03794\n",
                  "Train accuracy: 0.91131\n",
                  "Train f1_score: 0.00000\n",
                  "Test accuracy: 0.91324\n",
                  "Test f1_score: 0.00000\n",
                  "------------------------------\n",
                  "Fold 3/5\n",
                  "Train loss: 0.03848\n",
                  "Test loss: 0.03871\n",
                  "Train accuracy: 0.91182\n",
                  "Train f1_score: 0.00000\n",
                  "Test accuracy: 0.91118\n",
                  "Test f1_score: 0.00000\n",
                  "------------------------------\n",
                  "Fold 4/5\n",
                  "Train loss: 0.03847\n",
                  "Test loss: 0.03875\n",
                  "Train accuracy: 0.91185\n",
                  "Train f1_score: 0.00000\n",
                  "Test accuracy: 0.91104\n",
                  "Test f1_score: 0.00000\n",
                  "------------------------------\n",
                  "Fold 5/5\n",
                  "Train loss: 0.03837\n",
                  "Test loss: 0.03915\n",
                  "Train accuracy: 0.91209\n",
                  "Train f1_score: 0.00000\n",
                  "Test accuracy: 0.91008\n",
                  "Test f1_score: 0.00000\n",
                  "------------------------------\n"
               ]
            }
         ],
         "source": [
            "# Cross validation\n",
            "eval_results_train, eval_results_test, losses_train, losses_test, w = cross_validation(y_train, \n",
            "                                                                                       x_train_temp, \n",
            "                                                                                       k_indices, \n",
            "                                                                                       model_fn=_ridge_regression, \n",
            "                                                                                       loss_fn=compute_loss_mse, \n",
            "                                                                                       pred_fn=predict_mse, \n",
            "                                                                                       eval_fns=dict(accuracy=accuracy, f1_score=f1_score))"
         ]
      },
      {
         "cell_type": "code",
         "execution_count": 23,
         "metadata": {},
         "outputs": [
            {
               "name": "stdout",
               "output_type": "stream",
               "text": [
                  "Train:\n",
                  "accuracy : 0.911692 ± 0.000299\n",
                  "f1_score : 0.000000 ± 0.000000\n",
                  "--------------------\n",
                  "Test:\n",
                  "accuracy : 0.911692 ± 0.001197\n",
                  "f1_score : 0.000000 ± 0.000000\n"
               ]
            }
         ],
         "source": [
            "print(\"Train:\")\n",
            "print_results(eval_results_train)\n",
            "print(\"-\"*20)\n",
            "print(\"Test:\")\n",
            "print_results(eval_results_test)"
         ]
      },
      {
         "attachments": {},
         "cell_type": "markdown",
         "metadata": {},
         "source": [
            "### Logistic regression"
         ]
      },
      {
         "cell_type": "code",
         "execution_count": 58,
         "metadata": {},
         "outputs": [],
         "source": [
            "# Model parameters\n",
            "MAX_ITERS = 100\n",
            "GAMMA = 0.5\n",
            "# Model\n",
            "_logistic_regression = lambda y, tx, initial_w: logistic_regression(y, tx, initial_w, MAX_ITERS, GAMMA)"
         ]
      },
      {
         "cell_type": "code",
         "execution_count": 59,
         "metadata": {},
         "outputs": [
            {
               "name": "stdout",
               "output_type": "stream",
               "text": [
                  "Fold 1/5\n",
                  "Train loss: 0.66972\n",
                  "Test loss: 0.67079\n",
                  "Train accuracy: 0.62406\n",
                  "Train f1_score: 0.29867\n",
                  "Test accuracy: 0.62368\n",
                  "Test f1_score: 0.29435\n",
                  "------------------------------\n",
                  "Fold 2/5\n",
                  "Train loss: 0.66984\n",
                  "Test loss: 0.67033\n",
                  "Train accuracy: 0.62283\n",
                  "Train f1_score: 0.29838\n",
                  "Test accuracy: 0.62261\n",
                  "Test f1_score: 0.29288\n",
                  "------------------------------\n",
                  "Fold 3/5\n",
                  "Train loss: 0.66984\n",
                  "Test loss: 0.67038\n",
                  "Train accuracy: 0.62364\n",
                  "Train f1_score: 0.29705\n",
                  "Test accuracy: 0.62141\n",
                  "Test f1_score: 0.29889\n",
                  "------------------------------\n",
                  "Fold 4/5\n",
                  "Train loss: 0.67023\n",
                  "Test loss: 0.66876\n",
                  "Train accuracy: 0.62330\n",
                  "Train f1_score: 0.29704\n",
                  "Test accuracy: 0.62618\n",
                  "Test f1_score: 0.30028\n",
                  "------------------------------\n",
                  "Fold 5/5\n",
                  "Train loss: 0.66964\n",
                  "Test loss: 0.67113\n",
                  "Train accuracy: 0.62422\n",
                  "Train f1_score: 0.29680\n",
                  "Test accuracy: 0.62186\n",
                  "Test f1_score: 0.30052\n",
                  "------------------------------\n"
               ]
            }
         ],
         "source": [
            "# Cross validation\n",
            "eval_results_train, eval_results_test, losses_train, losses_test, w = cross_validation(y_train, \n",
            "                                                                                       x_train_temp, \n",
            "                                                                                       k_indices, \n",
            "                                                                                       model_fn=_logistic_regression, \n",
            "                                                                                       loss_fn=compute_loss_logistic, \n",
            "                                                                                       pred_fn=predict_logistic, \n",
            "                                                                                       eval_fns=dict(accuracy=accuracy, f1_score=f1_score))"
         ]
      },
      {
         "cell_type": "code",
         "execution_count": 60,
         "metadata": {},
         "outputs": [
            {
               "name": "stdout",
               "output_type": "stream",
               "text": [
                  "Train:\n",
                  "accuracy : 0.623610 ± 0.000506\n",
                  "f1_score : 0.297589 ± 0.000773\n",
                  "--------------------\n",
                  "Test:\n",
                  "accuracy : 0.623146 ± 0.001698\n",
                  "f1_score : 0.297383 ± 0.003162\n"
               ]
            }
         ],
         "source": [
            "print(\"Train:\")\n",
            "print_results(eval_results_train)\n",
            "print(\"-\"*20)\n",
            "print(\"Test:\")\n",
            "print_results(eval_results_test)"
         ]
      },
      {
         "attachments": {},
         "cell_type": "markdown",
         "metadata": {},
         "source": [
            "### Regularized logistic regression"
         ]
      },
      {
         "cell_type": "code",
         "execution_count": 27,
         "metadata": {},
         "outputs": [],
         "source": [
            "# Model parameters\n",
            "MAX_ITERS = 100\n",
            "GAMMA = 0.1\n",
            "LAMBDA_ = 0.1\n",
            "# Model\n",
            "_reg_logistic_regression = lambda y, tx, initial_w: reg_logistic_regression(y, tx, initial_w, MAX_ITERS, GAMMA, LAMBDA_)"
         ]
      },
      {
         "cell_type": "code",
         "execution_count": 28,
         "metadata": {},
         "outputs": [
            {
               "name": "stdout",
               "output_type": "stream",
               "text": [
                  "Fold 1/5\n",
                  "Train loss: 0.67132\n",
                  "Test loss: 0.67180\n",
                  "Train accuracy: 0.62037\n",
                  "Train f1_score: 0.29688\n",
                  "Test accuracy: 0.62048\n",
                  "Test f1_score: 0.29239\n",
                  "------------------------------\n",
                  "Fold 2/5\n",
                  "Train loss: 0.67141\n",
                  "Test loss: 0.67160\n",
                  "Train accuracy: 0.61943\n",
                  "Train f1_score: 0.29674\n",
                  "Test accuracy: 0.61878\n",
                  "Test f1_score: 0.29123\n",
                  "------------------------------\n",
                  "Fold 3/5\n",
                  "Train loss: 0.67138\n",
                  "Test loss: 0.67177\n",
                  "Train accuracy: 0.62026\n",
                  "Train f1_score: 0.29515\n",
                  "Test accuracy: 0.61819\n",
                  "Test f1_score: 0.29700\n",
                  "------------------------------\n",
                  "Fold 4/5\n",
                  "Train loss: 0.67172\n",
                  "Test loss: 0.67066\n",
                  "Train accuracy: 0.61926\n",
                  "Train f1_score: 0.29507\n",
                  "Test accuracy: 0.62188\n",
                  "Test f1_score: 0.29867\n",
                  "------------------------------\n",
                  "Fold 5/5\n",
                  "Train loss: 0.67122\n",
                  "Test loss: 0.67215\n",
                  "Train accuracy: 0.62004\n",
                  "Train f1_score: 0.29502\n",
                  "Test accuracy: 0.61816\n",
                  "Test f1_score: 0.29840\n",
                  "------------------------------\n"
               ]
            }
         ],
         "source": [
            "# Cross validation\n",
            "eval_results_train, eval_results_test, losses_train, losses_test, w = cross_validation(y_train, \n",
            "                                                                                       x_train_temp, \n",
            "                                                                                       k_indices, \n",
            "                                                                                       model_fn=_reg_logistic_regression, \n",
            "                                                                                       loss_fn=compute_loss_logistic, \n",
            "                                                                                       pred_fn=predict_logistic, \n",
            "                                                                                       eval_fns=dict(accuracy=accuracy, f1_score=f1_score))"
         ]
      }
   ],
   "metadata": {
      "kernelspec": {
         "display_name": "Python 3",
         "language": "python",
         "name": "python3"
      },
      "language_info": {
         "codemirror_mode": {
            "name": "ipython",
            "version": 3
         },
         "file_extension": ".py",
         "mimetype": "text/x-python",
         "name": "python",
         "nbconvert_exporter": "python",
         "pygments_lexer": "ipython3",
         "version": "3.10.12"
      },
      "vscode": {
         "interpreter": {
            "hash": "916dbcbb3f70747c44a77c7bcd40155683ae19c65e1c03b4aa3499c5328201f1"
         }
      }
   },
   "nbformat": 4,
   "nbformat_minor": 2
}
