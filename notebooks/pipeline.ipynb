{
   "cells": [
      {
         "attachments": {},
         "cell_type": "markdown",
         "metadata": {},
         "source": [
            "### Experiment pipeline"
         ]
      },
      {
         "cell_type": "code",
         "execution_count": 1,
         "metadata": {},
         "outputs": [],
         "source": [
            "%load_ext autoreload\n",
            "%autoreload 2"
         ]
      },
      {
         "cell_type": "code",
         "execution_count": 2,
         "metadata": {},
         "outputs": [],
         "source": [
            "import sys\n",
            "sys.path.append('../')\n",
            "import numpy as np\n",
            "# add ../ to path\n",
            "from helpers import (\n",
            "    load_csv_data\n",
            ")  \n",
            "from feature_processing import (\n",
            "    drop_columns,\n",
            "    drop_correlated_columns,\n",
            "    drop_single_value_columns,\n",
            "    median_imputation,\n",
            "    mean_imputation,\n",
            "    standardize,\n",
            "    build_poly,\n",
            "    build_k_indices\n",
            ")\n",
            "from cross_validation import (\n",
            "    predict_mse,\n",
            "    predict_logistic,\n",
            "    accuracy,\n",
            "    f1_score,\n",
            "    print_results,\n",
            "    cross_validation\n",
            ")\n",
            "from implementations import (\n",
            "    mean_squared_error_gd,\n",
            "    mean_squared_error_sgd,\n",
            "    least_squares,\n",
            "    ridge_regression,\n",
            "    logistic_regression,\n",
            "    reg_logistic_regression\n",
            ")\n",
            "from implementations_utils import (\n",
            "    compute_loss_mse, \n",
            "    compute_loss_logistic)"
         ]
      },
      {
         "cell_type": "code",
         "execution_count": 3,
         "metadata": {},
         "outputs": [
            {
               "name": "stdout",
               "output_type": "stream",
               "text": [
                  "Loading data...\n",
                  "Data loaded...\n"
               ]
            }
         ],
         "source": [
            "print(\"Loading data...\")\n",
            "x_train, x_test, y_train, train_ids, test_ids = load_csv_data(\"../../data/\")\n",
            "print(\"Data loaded...\")"
         ]
      },
      {
         "cell_type": "code",
         "execution_count": 4,
         "metadata": {},
         "outputs": [
            {
               "name": "stdout",
               "output_type": "stream",
               "text": [
                  "x_train.shape = (328135, 321)\n",
                  "x_test.shape = (109379, 321)\n",
                  "y_train.shape = (328135,)\n",
                  "train_ids.shape = (328135,)\n",
                  "test_ids.shape = (109379,)\n"
               ]
            }
         ],
         "source": [
            "print(\"x_train.shape =\", x_train.shape)\n",
            "print(\"x_test.shape =\", x_test.shape)\n",
            "print(\"y_train.shape =\", y_train.shape)\n",
            "print(\"train_ids.shape =\", train_ids.shape)\n",
            "print(\"test_ids.shape =\", test_ids.shape)"
         ]
      },
      {
         "cell_type": "code",
         "execution_count": 5,
         "metadata": {},
         "outputs": [],
         "source": [
            "# replace -1 with 0 in y_train\n",
            "y_train[np.where(y_train == -1)] = 0"
         ]
      },
      {
         "attachments": {},
         "cell_type": "markdown",
         "metadata": {},
         "source": [
            "### Feature engineering"
         ]
      },
      {
         "cell_type": "code",
         "execution_count": 6,
         "metadata": {},
         "outputs": [],
         "source": [
            "### Column dropping and imputation ###\n",
            "# threshold for drop_columns function\n",
            "DROP_NAN_THRESHOLD = 1 # 1 = keep everything, 0 = drop everything that contains nan\n",
            "# threshold for categorical/numerical (categorical are imputated with median, numerical with mean)\n",
            "CAT_NUM_THRESHOLD = 30 \n",
            "# flag for drop_single_value_columns function\n",
            "DROP_SINGLE = True # Should always be True, otherwise it is messing up with the correlation coefficient. \n",
            "# threshold for drop_correlated_columns function\n",
            "DROP_CORR_THRESHOLD = 0.9\n",
            "\n",
            "### Feature processing ###\n",
            "# flag for build_poly function\n",
            "BUILD_POLY = False\n",
            "# degree for build_poly function\n",
            "DEGREE = 2\n",
            "# flag for build_log function\n",
            "BUILD_LOG = False #TODO: TO BE IMPLEMENTED\n",
            "# flag for build_x\n",
            "BUILD_X = False #TODO: TO BE IMPLEMENTED\n",
            "# flag for standardize function\n",
            "STANDARDIZE = True"
         ]
      },
      {
         "cell_type": "code",
         "execution_count": 7,
         "metadata": {},
         "outputs": [],
         "source": [
            "# copy data\n",
            "x_train_temp = x_train.copy()\n",
            "x_test_temp = x_test.copy()"
         ]
      },
      {
         "cell_type": "code",
         "execution_count": 8,
         "metadata": {},
         "outputs": [
            {
               "name": "stdout",
               "output_type": "stream",
               "text": [
                  "Dropping columns with DROP_NAN_THRESHOLD = 1...\n"
               ]
            }
         ],
         "source": [
            "# drop_columns on x_train and x_test\n",
            "x_train_temp, cols_to_keep_1 = drop_columns(x_train, DROP_NAN_THRESHOLD)\n",
            "x_test_temp = x_test[:, cols_to_keep_1]\n",
            "print(f\"Dropping columns with DROP_NAN_THRESHOLD = {DROP_NAN_THRESHOLD}...\")"
         ]
      },
      {
         "cell_type": "code",
         "execution_count": 9,
         "metadata": {},
         "outputs": [],
         "source": [
            "# categorical and numerical features\n",
            "categorical_features = []\n",
            "numerical_features = []\n",
            "# find categorical and numerical features\n",
            "for i, feature in enumerate(x_train_temp.T):\n",
            "    if (\n",
            "        np.unique(feature).shape[0] < CAT_NUM_THRESHOLD\n",
            "    ):\n",
            "        categorical_features.append(i)\n",
            "    else:\n",
            "        numerical_features.append(i)\n",
            "# fill in missing values on the train and test\n",
            "x_train_temp[:, categorical_features] = median_imputation(\n",
            "    x_train_temp[:, categorical_features]\n",
            ")\n",
            "x_test_temp[:, categorical_features] = median_imputation(\n",
            "    x_test_temp[:, categorical_features]\n",
            ")\n",
            "x_train_temp[:, numerical_features] = mean_imputation(\n",
            "    x_train_temp[:, numerical_features]\n",
            ")\n",
            "x_test_temp[:, numerical_features] = mean_imputation(x_test_temp[:, numerical_features])"
         ]
      },
      {
         "cell_type": "code",
         "execution_count": 10,
         "metadata": {},
         "outputs": [
            {
               "name": "stdout",
               "output_type": "stream",
               "text": [
                  "x_train_temp.shape = (328135, 321)\n",
                  "x_test_temp.shape = (109379, 321)\n"
               ]
            }
         ],
         "source": [
            "print(\"x_train_temp.shape =\", x_train_temp.shape)\n",
            "print(\"x_test_temp.shape =\", x_test_temp.shape)"
         ]
      },
      {
         "cell_type": "code",
         "execution_count": 11,
         "metadata": {},
         "outputs": [
            {
               "name": "stdout",
               "output_type": "stream",
               "text": [
                  "Dropping single valued columns...\n",
                  "Dropping columns with DROP_CORR_THRESHOLD = 0.9...\n"
               ]
            }
         ],
         "source": [
            "# drop_single_value_columns on x_train and x_test \n",
            "if DROP_SINGLE:\n",
            "    x_train_temp, cols_to_keep_3 = drop_single_value_columns(x_train_temp)\n",
            "    x_test_temp = x_test_temp[:, cols_to_keep_3]\n",
            "    print(\"Dropping single valued columns...\")\n",
            "# drop_correlated_columns on x_train and x_test\n",
            "x_train_temp, cols_to_keep_2 = drop_correlated_columns(x_train_temp, DROP_CORR_THRESHOLD)\n",
            "x_test_temp = x_test_temp[:, cols_to_keep_2]\n",
            "print(f\"Dropping columns with DROP_CORR_THRESHOLD = {DROP_CORR_THRESHOLD}...\")"
         ]
      },
      {
         "cell_type": "code",
         "execution_count": 12,
         "metadata": {},
         "outputs": [
            {
               "name": "stdout",
               "output_type": "stream",
               "text": [
                  "x_train_temp.shape = (328135, 279)\n",
                  "x_test_temp.shape = (109379, 279)\n"
               ]
            }
         ],
         "source": [
            "print(\"x_train_temp.shape =\", x_train_temp.shape)\n",
            "print(\"x_test_temp.shape =\", x_test_temp.shape)"
         ]
      },
      {
         "cell_type": "code",
         "execution_count": 13,
         "metadata": {},
         "outputs": [],
         "source": [
            "# CHECK IF THERE ARE TWO EQUAL COLUMNS\n",
            "# matrix = x_train_temp\n",
            "# # Get the number of columns in the matrix\n",
            "# num_columns = matrix.shape[1]\n",
            "# # Initialize a flag to check for equal columns\n",
            "# has_equal_columns = False\n",
            "\n",
            "# # Loop through each pair of columns\n",
            "# for i in range(num_columns):\n",
            "#     for j in range(i + 1, num_columns):\n",
            "#         if np.array_equal(matrix[:, i], matrix[:, j]):\n",
            "#             has_equal_columns = True\n",
            "#             break\n",
            "\n",
            "# if has_equal_columns:\n",
            "#     print(\"The matrix has two equal columns.\")\n",
            "# else:\n",
            "#     print(\"The matrix does not have two equal columns.\")"
         ]
      },
      {
         "cell_type": "code",
         "execution_count": 14,
         "metadata": {},
         "outputs": [],
         "source": [
            "# build polynomial features\n",
            "if BUILD_POLY:\n",
            "    print(f\"Building polynomial with degree = {DEGREE}...\")\n",
            "    x_train_temp = build_poly(x_train_temp, DEGREE)\n",
            "    x_test_temp = build_poly(x_test_temp, DEGREE)"
         ]
      },
      {
         "cell_type": "code",
         "execution_count": 15,
         "metadata": {},
         "outputs": [
            {
               "name": "stdout",
               "output_type": "stream",
               "text": [
                  "Standardizing...\n"
               ]
            }
         ],
         "source": [
            "# standardize\n",
            "if STANDARDIZE:\n",
            "    print(\"Standardizing...\")\n",
            "    x_train_temp = standardize(x_train_temp)\n",
            "    x_test_temp = standardize(x_test_temp)"
         ]
      },
      {
         "cell_type": "code",
         "execution_count": 16,
         "metadata": {},
         "outputs": [
            {
               "name": "stdout",
               "output_type": "stream",
               "text": [
                  "New x_train and x_test shapes\n",
                  "x_train_temp.shape = (328135, 279)\n",
                  "x_test_temp.shape = (109379, 279)\n"
               ]
            }
         ],
         "source": [
            "print(\"New x_train and x_test shapes\")\n",
            "print(\"x_train_temp.shape =\", x_train_temp.shape)\n",
            "print(\"x_test_temp.shape =\", x_test_temp.shape)"
         ]
      },
      {
         "attachments": {},
         "cell_type": "markdown",
         "metadata": {},
         "source": [
            "### Models"
         ]
      },
      {
         "cell_type": "code",
         "execution_count": 17,
         "metadata": {},
         "outputs": [],
         "source": [
            "# number of folds\n",
            "NUM_FOLDS = 5\n",
            "# build k_indices for cross validation\n",
            "k_indices = build_k_indices(y_train, NUM_FOLDS, 42)"
         ]
      },
      {
         "attachments": {},
         "cell_type": "markdown",
         "metadata": {},
         "source": [
            "#### Mean squared error with GD"
         ]
      },
      {
         "cell_type": "code",
         "execution_count": 18,
         "metadata": {},
         "outputs": [],
         "source": [
            "# Model parameters\n",
            "MAX_ITERS = 100\n",
            "GAMMA = 0.5\n",
            "# Model\n",
            "_mean_squared_error_gd = lambda y, tx, initial_w: mean_squared_error_gd(y, tx, initial_w, MAX_ITERS, GAMMA)"
         ]
      },
      {
         "cell_type": "code",
         "execution_count": 19,
         "metadata": {},
         "outputs": [
            {
               "name": "stdout",
               "output_type": "stream",
               "text": [
                  "Fold 1/5\n",
                  "Train loss: 651794955608432959306938365685637561818029961839536707305271758864855301369762642868198771590072107008.00000\n",
                  "Test loss: 642335906831563084518182891367950912895178496743211690212190542348824792235542784387317468341655830528.00000\n",
                  "Train accuracy: 0.47004\n",
                  "Train f1_score: 0.05968\n",
                  "Test accuracy: 0.47241\n",
                  "Test f1_score: 0.05790\n",
                  "------------------------------\n",
                  "Fold 2/5\n",
                  "Train loss: 461123120233004018735318934073849384804874727293727195086281630892404983747885162756218849012716929024.00000\n",
                  "Test loss: 457505792770167509973918011730446333067745200400281495418143046956479888984363477305666330652525461504.00000\n",
                  "Train accuracy: 0.46956\n",
                  "Train f1_score: 0.05887\n",
                  "Test accuracy: 0.47421\n",
                  "Test f1_score: 0.06142\n",
                  "------------------------------\n",
                  "Fold 3/5\n",
                  "Train loss: 69281503798379129261686228109860783306563702748700124358589126595409981184819420923305020812748128256.00000\n",
                  "Test loss: 71336845659693007720607450911867726043288079926530821543130214010689461604652317267452512063786582016.00000\n",
                  "Train accuracy: 0.46738\n",
                  "Train f1_score: 0.05872\n",
                  "Test accuracy: 0.46761\n",
                  "Test f1_score: 0.05903\n",
                  "------------------------------\n",
                  "Fold 4/5\n",
                  "Train loss: 330342989695009301996612935800868941794451041643134512102031369528913099733836699094812121943664230400.00000\n",
                  "Test loss: 330122437985104044359325461784800216642805093908249833516915034996857065678694983724998087639830626304.00000\n",
                  "Train accuracy: 0.46767\n",
                  "Train f1_score: 0.05865\n",
                  "Test accuracy: 0.46511\n",
                  "Test f1_score: 0.05903\n",
                  "------------------------------\n",
                  "Fold 5/5\n",
                  "Train loss: 522313739003431296202077909940319990571538285157215150746844090910925708433415261740793450320206233600.00000\n",
                  "Test loss: 517044401280765488146685612735091329415174235584532137737176544573296772286300361103845293973196242944.00000\n",
                  "Train accuracy: 0.46996\n",
                  "Train f1_score: 0.05941\n",
                  "Test accuracy: 0.46623\n",
                  "Test f1_score: 0.05818\n",
                  "------------------------------\n"
               ]
            }
         ],
         "source": [
            "# Cross validation\n",
            "eval_results_train, eval_results_test, losses_train, losses_test, w = cross_validation(y_train, \n",
            "                                                                                       x_train_temp, \n",
            "                                                                                       k_indices, \n",
            "                                                                                       model_fn=_mean_squared_error_gd, \n",
            "                                                                                       loss_fn=compute_loss_mse, \n",
            "                                                                                       pred_fn=predict_mse, \n",
            "                                                                                       eval_fns=dict(accuracy=accuracy, f1_score=f1_score))"
         ]
      },
      {
         "cell_type": "code",
         "execution_count": 20,
         "metadata": {},
         "outputs": [
            {
               "name": "stdout",
               "output_type": "stream",
               "text": [
                  "Train:\n",
                  "accuracy : 0.468921 ± 0.001159\n",
                  "f1_score : 0.059065 ± 0.000408\n",
                  "--------------------\n",
                  "Test:\n",
                  "accuracy : 0.469115 ± 0.003562\n",
                  "f1_score : 0.059113 ± 0.001238\n"
               ]
            }
         ],
         "source": [
            "print(\"Train:\")\n",
            "print_results(eval_results_train)\n",
            "print(\"-\"*20)\n",
            "print(\"Test:\")\n",
            "print_results(eval_results_test)"
         ]
      },
      {
         "attachments": {},
         "cell_type": "markdown",
         "metadata": {},
         "source": [
            "### Mean squared error with SGD"
         ]
      },
      {
         "cell_type": "code",
         "execution_count": 21,
         "metadata": {},
         "outputs": [],
         "source": [
            "# Model parameters\n",
            "MAX_ITERS = 100\n",
            "GAMMA = 0.5\n",
            "# Model\n",
            "_mean_squared_error_sgd = lambda y, tx, initial_w: mean_squared_error_sgd(y, tx, initial_w, MAX_ITERS, GAMMA)"
         ]
      },
      {
         "cell_type": "code",
         "execution_count": 22,
         "metadata": {},
         "outputs": [
            {
               "name": "stdout",
               "output_type": "stream",
               "text": [
                  "Fold 1/5\n",
                  "Train loss: 298392628334543573155142652558532135352792472713598653088869898762414701322989814181120663759196846974025864802168388830065924996652335104.00000\n",
                  "Test loss: 302107941856076158872594127161256202867538475538666910206335436266565343675951070727501971223160553685227408199036409209103993925793742848.00000\n",
                  "Train accuracy: 0.57662\n",
                  "Train f1_score: 0.18236\n",
                  "Test accuracy: 0.57402\n",
                  "Test f1_score: 0.17699\n",
                  "------------------------------\n",
                  "Fold 2/5\n",
                  "Train loss: 1600415535684866623113488447903328662818674961272130001091422352304594476554305493897928686857879552.00000\n",
                  "Test loss: 1594087747759650093347890485445522803011051633256064768764376062747052179500100162329214317477494784.00000\n",
                  "Train accuracy: 0.39296\n",
                  "Train f1_score: 0.05541\n",
                  "Test accuracy: 0.39659\n",
                  "Test f1_score: 0.05498\n",
                  "------------------------------\n",
                  "Fold 3/5\n",
                  "Train loss: 2153389575252662413309984925453224543003240512120194786891408851557655450039897831543184894097625678437870776979495840959219267783652485977021087744.00000\n",
                  "Test loss: 2132383767301624387214974531158987078279266302340040499399199754259870788279220930027451164321940517459530334190798667235203897713129073428117061632.00000\n",
                  "Train accuracy: 0.54015\n",
                  "Train f1_score: 0.14876\n",
                  "Test accuracy: 0.53973\n",
                  "Test f1_score: 0.14764\n",
                  "------------------------------\n",
                  "Fold 4/5\n",
                  "Train loss: 150543128535433687430397191251346875584944004944577754948370054912504276980262507476732388859535199183412262506684638339991736933169835904189239132160.00000\n",
                  "Test loss: 149057965163023039030037709239542947659787547789423321787660563116298161072606707716324002351723726976161384121642111272781179400757574502267890958336.00000\n",
                  "Train accuracy: 0.53849\n",
                  "Train f1_score: 0.13071\n",
                  "Test accuracy: 0.53667\n",
                  "Test f1_score: 0.12736\n",
                  "------------------------------\n",
                  "Fold 5/5\n",
                  "Train loss: 4945752680278559829370449539633765672172134015868488604246189777506872193064048824038290082907822227456.00000\n",
                  "Test loss: 5011560801322504699027942801483586283317851024196317279021190388009911861361981284233359337430836051968.00000\n",
                  "Train accuracy: 0.49657\n",
                  "Train f1_score: 0.18694\n",
                  "Test accuracy: 0.49690\n",
                  "Test f1_score: 0.18911\n",
                  "------------------------------\n"
               ]
            }
         ],
         "source": [
            "# Cross validation\n",
            "eval_results_train, eval_results_test, losses_train, losses_test, w = cross_validation(y_train, \n",
            "                                                                                       x_train_temp, \n",
            "                                                                                       k_indices, \n",
            "                                                                                       model_fn=_mean_squared_error_sgd, \n",
            "                                                                                       loss_fn=compute_loss_mse, \n",
            "                                                                                       pred_fn=predict_mse, \n",
            "                                                                                       eval_fns=dict(accuracy=accuracy, f1_score=f1_score))"
         ]
      },
      {
         "cell_type": "code",
         "execution_count": 23,
         "metadata": {},
         "outputs": [
            {
               "name": "stdout",
               "output_type": "stream",
               "text": [
                  "Train:\n",
                  "accuracy : 0.508958 ± 0.063296\n",
                  "f1_score : 0.140837 ± 0.047567\n",
                  "--------------------\n",
                  "Test:\n",
                  "accuracy : 0.508781 ± 0.061187\n",
                  "f1_score : 0.139217 ± 0.047377\n"
               ]
            }
         ],
         "source": [
            "print(\"Train:\")\n",
            "print_results(eval_results_train)\n",
            "print(\"-\"*20)\n",
            "print(\"Test:\")\n",
            "print_results(eval_results_test)"
         ]
      },
      {
         "attachments": {},
         "cell_type": "markdown",
         "metadata": {},
         "source": [
            "### Least squares"
         ]
      },
      {
         "cell_type": "code",
         "execution_count": 24,
         "metadata": {},
         "outputs": [],
         "source": [
            "_least_squares = lambda y, tx, initial_w: least_squares(y, tx)"
         ]
      },
      {
         "cell_type": "code",
         "execution_count": 26,
         "metadata": {},
         "outputs": [
            {
               "name": "stdout",
               "output_type": "stream",
               "text": [
                  "Fold 1/5\n",
                  "Train loss: 0.03825\n",
                  "Test loss: 0.03796\n",
                  "Train accuracy: 0.91156\n",
                  "Train f1_score: 0.00429\n",
                  "Test accuracy: 0.91301\n",
                  "Test f1_score: 0.00279\n",
                  "------------------------------\n",
                  "Fold 2/5\n",
                  "Train loss: 0.03831\n",
                  "Test loss: 0.03769\n",
                  "Train accuracy: 0.91146\n",
                  "Train f1_score: 0.00386\n",
                  "Test accuracy: 0.91334\n",
                  "Test f1_score: 0.00316\n",
                  "------------------------------\n",
                  "Fold 3/5\n",
                  "Train loss: 0.03814\n",
                  "Test loss: 0.03837\n",
                  "Train accuracy: 0.91192\n",
                  "Train f1_score: 0.00259\n",
                  "Test accuracy: 0.91129\n",
                  "Test f1_score: 0.00240\n",
                  "------------------------------\n",
                  "Fold 4/5\n",
                  "Train loss: 0.03812\n",
                  "Test loss: 0.03849\n",
                  "Train accuracy: 0.91202\n",
                  "Train f1_score: 0.00423\n",
                  "Test accuracy: 0.91121\n",
                  "Test f1_score: 0.00376\n",
                  "------------------------------\n",
                  "Fold 5/5\n",
                  "Train loss: 0.03802\n",
                  "Test loss: 0.03888\n",
                  "Train accuracy: 0.91225\n",
                  "Train f1_score: 0.00389\n",
                  "Test accuracy: 0.91022\n",
                  "Test f1_score: 0.00406\n",
                  "------------------------------\n"
               ]
            }
         ],
         "source": [
            "# Cross validation\n",
            "eval_results_train, eval_results_test, losses_train, losses_test, w = cross_validation(y_train, \n",
            "                                                                                       x_train_temp, \n",
            "                                                                                       k_indices, \n",
            "                                                                                       model_fn=_least_squares, \n",
            "                                                                                       loss_fn=compute_loss_mse, \n",
            "                                                                                       pred_fn=predict_mse, \n",
            "                                                                                       eval_fns=dict(accuracy=accuracy, f1_score=f1_score))"
         ]
      },
      {
         "cell_type": "code",
         "execution_count": 27,
         "metadata": {},
         "outputs": [
            {
               "name": "stdout",
               "output_type": "stream",
               "text": [
                  "Train:\n",
                  "accuracy : 0.911843 ± 0.000294\n",
                  "f1_score : 0.003770 ± 0.000616\n",
                  "--------------------\n",
                  "Test:\n",
                  "accuracy : 0.911814 ± 0.001179\n",
                  "f1_score : 0.003233 ± 0.000609\n"
               ]
            }
         ],
         "source": [
            "print(\"Train:\")\n",
            "print_results(eval_results_train)\n",
            "print(\"-\"*20)\n",
            "print(\"Test:\")\n",
            "print_results(eval_results_test)"
         ]
      },
      {
         "attachments": {},
         "cell_type": "markdown",
         "metadata": {},
         "source": [
            "### Ridge regression"
         ]
      },
      {
         "cell_type": "code",
         "execution_count": 28,
         "metadata": {},
         "outputs": [],
         "source": [
            "LAMBDA_ = 0.1\n",
            "_ridge_regression = lambda y, tx, initial_w: ridge_regression(y, tx, LAMBDA_)"
         ]
      },
      {
         "cell_type": "code",
         "execution_count": 29,
         "metadata": {},
         "outputs": [
            {
               "name": "stdout",
               "output_type": "stream",
               "text": [
                  "Fold 1/5\n",
                  "Train loss: 0.03834\n",
                  "Test loss: 0.03801\n",
                  "Train accuracy: 0.91144\n",
                  "Train f1_score: 0.00129\n",
                  "Test accuracy: 0.91293\n",
                  "Test f1_score: 0.00070\n",
                  "------------------------------\n",
                  "Fold 2/5\n",
                  "Train loss: 0.03841\n",
                  "Test loss: 0.03773\n",
                  "Train accuracy: 0.91135\n",
                  "Train f1_score: 0.00112\n",
                  "Test accuracy: 0.91328\n",
                  "Test f1_score: 0.00105\n",
                  "------------------------------\n",
                  "Fold 3/5\n",
                  "Train loss: 0.03824\n",
                  "Test loss: 0.03845\n",
                  "Train accuracy: 0.91186\n",
                  "Train f1_score: 0.00095\n",
                  "Test accuracy: 0.91121\n",
                  "Test f1_score: 0.00069\n",
                  "------------------------------\n",
                  "Fold 4/5\n",
                  "Train loss: 0.03821\n",
                  "Test loss: 0.03857\n",
                  "Train accuracy: 0.91189\n",
                  "Train f1_score: 0.00086\n",
                  "Test accuracy: 0.91112\n",
                  "Test f1_score: 0.00171\n",
                  "------------------------------\n",
                  "Fold 5/5\n",
                  "Train loss: 0.03811\n",
                  "Test loss: 0.03895\n",
                  "Train accuracy: 0.91216\n",
                  "Train f1_score: 0.00156\n",
                  "Test accuracy: 0.91017\n",
                  "Test f1_score: 0.00203\n",
                  "------------------------------\n"
               ]
            }
         ],
         "source": [
            "# Cross validation\n",
            "eval_results_train, eval_results_test, losses_train, losses_test, w = cross_validation(y_train, \n",
            "                                                                                       x_train_temp, \n",
            "                                                                                       k_indices, \n",
            "                                                                                       model_fn=_ridge_regression, \n",
            "                                                                                       loss_fn=compute_loss_mse, \n",
            "                                                                                       pred_fn=predict_mse, \n",
            "                                                                                       eval_fns=dict(accuracy=accuracy, f1_score=f1_score))"
         ]
      },
      {
         "cell_type": "code",
         "execution_count": 30,
         "metadata": {},
         "outputs": [
            {
               "name": "stdout",
               "output_type": "stream",
               "text": [
                  "Train:\n",
                  "accuracy : 0.911740 ± 0.000303\n",
                  "f1_score : 0.001155 ± 0.000249\n",
                  "--------------------\n",
                  "Test:\n",
                  "accuracy : 0.911744 ± 0.001176\n",
                  "f1_score : 0.001236 ± 0.000545\n"
               ]
            }
         ],
         "source": [
            "print(\"Train:\")\n",
            "print_results(eval_results_train)\n",
            "print(\"-\"*20)\n",
            "print(\"Test:\")\n",
            "print_results(eval_results_test)"
         ]
      },
      {
         "attachments": {},
         "cell_type": "markdown",
         "metadata": {},
         "source": [
            "### Logistic regression"
         ]
      },
      {
         "cell_type": "code",
         "execution_count": 31,
         "metadata": {},
         "outputs": [],
         "source": [
            "# Model parameters\n",
            "MAX_ITERS = 100\n",
            "GAMMA = 0.5\n",
            "# Model\n",
            "_logistic_regression = lambda y, tx, initial_w: logistic_regression(y, tx, initial_w, MAX_ITERS, GAMMA)"
         ]
      },
      {
         "cell_type": "code",
         "execution_count": 32,
         "metadata": {},
         "outputs": [
            {
               "name": "stdout",
               "output_type": "stream",
               "text": [
                  "Fold 1/5\n",
                  "Train loss: 0.66826\n",
                  "Test loss: 0.67004\n",
                  "Train accuracy: 0.63552\n",
                  "Train f1_score: 0.30401\n",
                  "Test accuracy: 0.63413\n",
                  "Test f1_score: 0.29815\n",
                  "------------------------------\n",
                  "Fold 2/5\n",
                  "Train loss: 0.66845\n",
                  "Test loss: 0.66926\n",
                  "Train accuracy: 0.63366\n",
                  "Train f1_score: 0.30324\n",
                  "Test accuracy: 0.63367\n",
                  "Test f1_score: 0.29818\n",
                  "------------------------------\n",
                  "Fold 3/5\n",
                  "Train loss: 0.66837\n",
                  "Test loss: 0.66965\n",
                  "Train accuracy: 0.63484\n",
                  "Train f1_score: 0.30214\n",
                  "Test accuracy: 0.63207\n",
                  "Test f1_score: 0.30347\n",
                  "------------------------------\n",
                  "Fold 4/5\n",
                  "Train loss: 0.66866\n",
                  "Test loss: 0.66845\n",
                  "Train accuracy: 0.63530\n",
                  "Train f1_score: 0.30267\n",
                  "Test accuracy: 0.63555\n",
                  "Test f1_score: 0.30443\n",
                  "------------------------------\n",
                  "Fold 5/5\n",
                  "Train loss: 0.66818\n",
                  "Test loss: 0.67042\n",
                  "Train accuracy: 0.63515\n",
                  "Train f1_score: 0.30178\n",
                  "Test accuracy: 0.63172\n",
                  "Test f1_score: 0.30455\n",
                  "------------------------------\n"
               ]
            }
         ],
         "source": [
            "# Cross validation\n",
            "eval_results_train, eval_results_test, losses_train, losses_test, w = cross_validation(y_train, \n",
            "                                                                                       x_train_temp, \n",
            "                                                                                       k_indices, \n",
            "                                                                                       model_fn=_logistic_regression, \n",
            "                                                                                       loss_fn=compute_loss_logistic, \n",
            "                                                                                       pred_fn=predict_logistic, \n",
            "                                                                                       eval_fns=dict(accuracy=accuracy, f1_score=f1_score))"
         ]
      },
      {
         "cell_type": "code",
         "execution_count": 33,
         "metadata": {},
         "outputs": [
            {
               "name": "stdout",
               "output_type": "stream",
               "text": [
                  "Train:\n",
                  "accuracy : 0.634893 ± 0.000653\n",
                  "f1_score : 0.302769 ± 0.000793\n",
                  "--------------------\n",
                  "Test:\n",
                  "accuracy : 0.633428 ± 0.001399\n",
                  "f1_score : 0.301754 ± 0.002956\n"
               ]
            }
         ],
         "source": [
            "print(\"Train:\")\n",
            "print_results(eval_results_train)\n",
            "print(\"-\"*20)\n",
            "print(\"Test:\")\n",
            "print_results(eval_results_test)"
         ]
      },
      {
         "attachments": {},
         "cell_type": "markdown",
         "metadata": {},
         "source": [
            "### Regularized logistic regression"
         ]
      },
      {
         "cell_type": "code",
         "execution_count": 34,
         "metadata": {},
         "outputs": [],
         "source": [
            "# Model parameters\n",
            "MAX_ITERS = 100\n",
            "GAMMA = 0.1\n",
            "LAMBDA_ = 0.1\n",
            "# Model\n",
            "_reg_logistic_regression = lambda y, tx, initial_w: reg_logistic_regression(y, tx, initial_w, MAX_ITERS, GAMMA, LAMBDA_)"
         ]
      },
      {
         "cell_type": "code",
         "execution_count": 35,
         "metadata": {},
         "outputs": [
            {
               "name": "stdout",
               "output_type": "stream",
               "text": [
                  "Fold 1/5\n",
                  "Train loss: 0.67029\n",
                  "Test loss: 0.67118\n",
                  "Train accuracy: 0.62906\n",
                  "Train f1_score: 0.30135\n",
                  "Test accuracy: 0.62893\n",
                  "Test f1_score: 0.29675\n",
                  "------------------------------\n",
                  "Fold 2/5\n",
                  "Train loss: 0.67045\n",
                  "Test loss: 0.67075\n",
                  "Train accuracy: 0.62752\n",
                  "Train f1_score: 0.30080\n",
                  "Test accuracy: 0.62784\n",
                  "Test f1_score: 0.29594\n",
                  "------------------------------\n",
                  "Fold 3/5\n",
                  "Train loss: 0.67037\n",
                  "Test loss: 0.67114\n",
                  "Train accuracy: 0.62898\n",
                  "Train f1_score: 0.29984\n",
                  "Test accuracy: 0.62579\n",
                  "Test f1_score: 0.30046\n",
                  "------------------------------\n",
                  "Fold 4/5\n",
                  "Train loss: 0.67066\n",
                  "Test loss: 0.67009\n",
                  "Train accuracy: 0.62806\n",
                  "Train f1_score: 0.29959\n",
                  "Test accuracy: 0.63015\n",
                  "Test f1_score: 0.30233\n",
                  "------------------------------\n",
                  "Fold 5/5\n",
                  "Train loss: 0.67020\n",
                  "Test loss: 0.67150\n",
                  "Train accuracy: 0.62879\n",
                  "Train f1_score: 0.29943\n",
                  "Test accuracy: 0.62628\n",
                  "Test f1_score: 0.30292\n",
                  "------------------------------\n"
               ]
            }
         ],
         "source": [
            "# Cross validation\n",
            "eval_results_train, eval_results_test, losses_train, losses_test, w = cross_validation(y_train, \n",
            "                                                                                       x_train_temp, \n",
            "                                                                                       k_indices, \n",
            "                                                                                       model_fn=_reg_logistic_regression, \n",
            "                                                                                       loss_fn=compute_loss_logistic, \n",
            "                                                                                       pred_fn=predict_logistic, \n",
            "                                                                                       eval_fns=dict(accuracy=accuracy, f1_score=f1_score))"
         ]
      },
      {
         "cell_type": "code",
         "execution_count": 37,
         "metadata": {},
         "outputs": [
            {
               "name": "stdout",
               "output_type": "stream",
               "text": [
                  "Train:\n",
                  "accuracy : 0.628483 ± 0.000596\n",
                  "f1_score : 0.300203 ± 0.000744\n",
                  "--------------------\n",
                  "Test:\n",
                  "accuracy : 0.627800 ± 0.001621\n",
                  "f1_score : 0.299680 ± 0.002854\n"
               ]
            }
         ],
         "source": [
            "print(\"Train:\")\n",
            "print_results(eval_results_train)\n",
            "print(\"-\"*20)\n",
            "print(\"Test:\")\n",
            "print_results(eval_results_test)"
         ]
      }
   ],
   "metadata": {
      "kernelspec": {
         "display_name": "Python 3",
         "language": "python",
         "name": "python3"
      },
      "language_info": {
         "codemirror_mode": {
            "name": "ipython",
            "version": 3
         },
         "file_extension": ".py",
         "mimetype": "text/x-python",
         "name": "python",
         "nbconvert_exporter": "python",
         "pygments_lexer": "ipython3",
         "version": "3.10.12"
      },
      "vscode": {
         "interpreter": {
            "hash": "916dbcbb3f70747c44a77c7bcd40155683ae19c65e1c03b4aa3499c5328201f1"
         }
      }
   },
   "nbformat": 4,
   "nbformat_minor": 2
}
