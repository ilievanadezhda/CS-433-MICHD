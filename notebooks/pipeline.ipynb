{
   "cells": [
      {
         "attachments": {},
         "cell_type": "markdown",
         "metadata": {},
         "source": [
            "### Experiment pipeline"
         ]
      },
      {
         "cell_type": "code",
         "execution_count": 5,
         "metadata": {},
         "outputs": [
            {
               "name": "stdout",
               "output_type": "stream",
               "text": [
                  "The autoreload extension is already loaded. To reload it, use:\n",
                  "  %reload_ext autoreload\n"
               ]
            }
         ],
         "source": [
            "%load_ext autoreload\n",
            "%autoreload 2\n"
         ]
      },
      {
         "cell_type": "code",
         "execution_count": null,
         "metadata": {},
         "outputs": [],
         "source": [
            "import sys\n",
            "\n",
            "sys.path.append(\"../\")\n",
            "# add ../ to path"
         ]
      },
      {
         "cell_type": "code",
         "execution_count": 7,
         "metadata": {},
         "outputs": [],
         "source": [
            "import numpy as np\n",
            "from helpers import load_csv_data\n",
            "from feature_processing import (\n",
            "    drop_columns,\n",
            "    drop_correlated_columns,\n",
            "    drop_single_value_columns,\n",
            "    median_imputation,\n",
            "    mean_imputation,\n",
            "    standardize,\n",
            "    build_poly,\n",
            "    build_k_indices,\n",
            "    build_log,\n",
            "    build_ratios,\n",
            ")\n",
            "from cross_validation import (\n",
            "    predict_mse,\n",
            "    predict_logistic,\n",
            "    accuracy,\n",
            "    f1_score,\n",
            "    print_results,\n",
            "    cross_validation,\n",
            ")\n",
            "from implementations import (\n",
            "    mean_squared_error_gd,\n",
            "    mean_squared_error_sgd,\n",
            "    least_squares,\n",
            "    ridge_regression,\n",
            "    logistic_regression,\n",
            "    reg_logistic_regression,\n",
            ")\n",
            "from implementations_utils import compute_loss_mse, compute_loss_logistic\n"
         ]
      },
      {
         "cell_type": "code",
         "execution_count": 8,
         "metadata": {},
         "outputs": [
            {
               "name": "stdout",
               "output_type": "stream",
               "text": [
                  "Loading data...\n",
                  "Data loaded...\n"
               ]
            }
         ],
         "source": [
            "print(\"Loading data...\")\n",
            "x_train, x_test, y_train, train_ids, test_ids = load_csv_data(\"../../data/\")\n",
            "print(\"Data loaded...\")"
         ]
      },
      {
         "cell_type": "code",
         "execution_count": 9,
         "metadata": {},
         "outputs": [
            {
               "name": "stdout",
               "output_type": "stream",
               "text": [
                  "x_train.shape = (328135, 321)\n",
                  "x_test.shape = (109379, 321)\n",
                  "y_train.shape = (328135,)\n",
                  "train_ids.shape = (328135,)\n",
                  "test_ids.shape = (109379,)\n"
               ]
            }
         ],
         "source": [
            "print(\"x_train.shape =\", x_train.shape)\n",
            "print(\"x_test.shape =\", x_test.shape)\n",
            "print(\"y_train.shape =\", y_train.shape)\n",
            "print(\"train_ids.shape =\", train_ids.shape)\n",
            "print(\"test_ids.shape =\", test_ids.shape)"
         ]
      },
      {
         "cell_type": "code",
         "execution_count": 10,
         "metadata": {},
         "outputs": [],
         "source": [
            "# replace -1 with 0 in y_train\n",
            "y_train[np.where(y_train == -1)] = 0"
         ]
      },
      {
         "attachments": {},
         "cell_type": "markdown",
         "metadata": {},
         "source": [
            "### Feature engineering"
         ]
      },
      {
         "cell_type": "code",
         "execution_count": 11,
         "metadata": {},
         "outputs": [],
         "source": [
            "### Column dropping and imputation ###\n",
            "# threshold for drop_columns function\n",
            "DROP_NAN_THRESHOLD = 1  # 1 = keep everything, 0 = drop everything that contains nan\n",
            "# threshold for categorical/numerical (categorical are imputated with median, numerical with mean)\n",
            "CAT_NUM_THRESHOLD = 30\n",
            "# flag for drop_single_value_columns function\n",
            "# Should always be True, otherwise it is messing up with the correlation coefficient.\n",
            "DROP_SINGLE = True\n",
            "# threshold for drop_correlated_columns function\n",
            "DROP_CORR_THRESHOLD = 0.9\n",
            "\n",
            "### Feature processing ###\n",
            "# flag for build_poly function\n",
            "BUILD_POLY = False\n",
            "# degree for build_poly function\n",
            "DEGREE = 2\n",
            "# flag for build_log function\n",
            "BUILD_LOG = False\n",
            "# flag for build_x\n",
            "BUILD_RATIOS = False\n",
            "# flag for standardize function\n",
            "STANDARDIZE = True"
         ]
      },
      {
         "cell_type": "code",
         "execution_count": 12,
         "metadata": {},
         "outputs": [],
         "source": [
            "# copy data\n",
            "x_train_temp = x_train.copy()\n",
            "x_test_temp = x_test.copy()"
         ]
      },
      {
         "cell_type": "code",
         "execution_count": 13,
         "metadata": {},
         "outputs": [
            {
               "name": "stdout",
               "output_type": "stream",
               "text": [
                  "Dropping columns with DROP_NAN_THRESHOLD = 1...\n"
               ]
            }
         ],
         "source": [
            "# drop_columns on x_train and x_test\n",
            "x_train_temp, cols_to_keep_1 = drop_columns(x_train, DROP_NAN_THRESHOLD)\n",
            "x_test_temp = x_test[:, cols_to_keep_1]\n",
            "print(f\"Dropping columns with DROP_NAN_THRESHOLD = {DROP_NAN_THRESHOLD}...\")"
         ]
      },
      {
         "cell_type": "code",
         "execution_count": 14,
         "metadata": {},
         "outputs": [],
         "source": [
            "# categorical and numerical features\n",
            "categorical_features = []\n",
            "numerical_features = []\n",
            "# find categorical and numerical features\n",
            "for i, feature in enumerate(x_train_temp.T):\n",
            "    if np.unique(feature).shape[0] < CAT_NUM_THRESHOLD:\n",
            "        categorical_features.append(i)\n",
            "    else:\n",
            "        numerical_features.append(i)\n",
            "# fill in missing values on the train and test\n",
            "x_train_temp[:, categorical_features] = median_imputation(\n",
            "    x_train_temp[:, categorical_features]\n",
            ")\n",
            "x_test_temp[:, categorical_features] = median_imputation(\n",
            "    x_test_temp[:, categorical_features]\n",
            ")\n",
            "x_train_temp[:, numerical_features] = mean_imputation(\n",
            "    x_train_temp[:, numerical_features]\n",
            ")\n",
            "x_test_temp[:, numerical_features] = mean_imputation(\n",
            "    x_test_temp[:, numerical_features])\n"
         ]
      },
      {
         "cell_type": "code",
         "execution_count": 15,
         "metadata": {},
         "outputs": [
            {
               "name": "stdout",
               "output_type": "stream",
               "text": [
                  "x_train_temp.shape = (328135, 321)\n",
                  "x_test_temp.shape = (109379, 321)\n"
               ]
            }
         ],
         "source": [
            "print(\"x_train_temp.shape =\", x_train_temp.shape)\n",
            "print(\"x_test_temp.shape =\", x_test_temp.shape)"
         ]
      },
      {
         "cell_type": "code",
         "execution_count": 16,
         "metadata": {},
         "outputs": [
            {
               "name": "stdout",
               "output_type": "stream",
               "text": [
                  "Dropping single valued columns...\n",
                  "Dropping columns with DROP_CORR_THRESHOLD = 0.9...\n"
               ]
            }
         ],
         "source": [
            "# drop_single_value_columns on x_train and x_test\n",
            "if DROP_SINGLE:\n",
            "    x_train_temp, cols_to_keep_3 = drop_single_value_columns(x_train_temp)\n",
            "    x_test_temp = x_test_temp[:, cols_to_keep_3]\n",
            "    print(\"Dropping single valued columns...\")\n",
            "# drop_correlated_columns on x_train and x_test\n",
            "x_train_temp, cols_to_keep_2 = drop_correlated_columns(\n",
            "    x_train_temp, DROP_CORR_THRESHOLD\n",
            ")\n",
            "x_test_temp = x_test_temp[:, cols_to_keep_2]\n",
            "print(f\"Dropping columns with DROP_CORR_THRESHOLD = {DROP_CORR_THRESHOLD}...\")\n"
         ]
      },
      {
         "cell_type": "code",
         "execution_count": 17,
         "metadata": {},
         "outputs": [
            {
               "name": "stdout",
               "output_type": "stream",
               "text": [
                  "x_train_temp.shape = (328135, 279)\n",
                  "x_test_temp.shape = (109379, 279)\n"
               ]
            }
         ],
         "source": [
            "print(\"x_train_temp.shape =\", x_train_temp.shape)\n",
            "print(\"x_test_temp.shape =\", x_test_temp.shape)"
         ]
      },
      {
         "cell_type": "code",
         "execution_count": 18,
         "metadata": {},
         "outputs": [],
         "source": [
            "# CHECK IF THERE ARE TWO EQUAL COLUMNS\n",
            "# matrix = x_train_temp\n",
            "# # Get the number of columns in the matrix\n",
            "# num_columns = matrix.shape[1]\n",
            "# # Initialize a flag to check for equal columns\n",
            "# has_equal_columns = False\n",
            "\n",
            "# # Loop through each pair of columns\n",
            "# for i in range(num_columns):\n",
            "#     for j in range(i + 1, num_columns):\n",
            "#         if np.array_equal(matrix[:, i], matrix[:, j]):\n",
            "#             has_equal_columns = True\n",
            "#             break\n",
            "\n",
            "# if has_equal_columns:\n",
            "#     print(\"The matrix has two equal columns.\")\n",
            "# else:\n",
            "#     print(\"The matrix does not have two equal columns.\")"
         ]
      },
      {
         "cell_type": "code",
         "execution_count": 21,
         "metadata": {},
         "outputs": [
            {
               "name": "stdout",
               "output_type": "stream",
               "text": [
                  "Building ratios...\n"
               ]
            }
         ],
         "source": [
            "if BUILD_RATIOS:\n",
            "    print(\"Building ratios...\")\n",
            "    # build ratios between columns\n",
            "    x_train_temp = build_ratios(x_train_temp)\n",
            "    x_test_temp = build_ratios(x_test_temp)\n"
         ]
      },
      {
         "cell_type": "code",
         "execution_count": 48,
         "metadata": {},
         "outputs": [
            {
               "name": "stdout",
               "output_type": "stream",
               "text": [
                  "Building log...\n"
               ]
            }
         ],
         "source": [
            "if BUILD_LOG:\n",
            "    print(\"Building log...\")\n",
            "    # build_log on x_train and x_test\n",
            "    x_train_temp = build_log(x_train_temp)\n",
            "    x_test_temp = build_log(x_test_temp)"
         ]
      },
      {
         "cell_type": "code",
         "execution_count": 49,
         "metadata": {},
         "outputs": [
            {
               "data": {
                  "text/plain": [
                     "(328135, 558)"
                  ]
               },
               "execution_count": 49,
               "metadata": {},
               "output_type": "execute_result"
            }
         ],
         "source": [
            "x_train_temp.shape"
         ]
      },
      {
         "cell_type": "code",
         "execution_count": 20,
         "metadata": {},
         "outputs": [],
         "source": [
            "# build polynomial features\n",
            "if BUILD_POLY:\n",
            "    print(f\"Building polynomial with degree = {DEGREE}...\")\n",
            "    x_train_temp = build_poly(x_train_temp, DEGREE)\n",
            "    x_test_temp = build_poly(x_test_temp, DEGREE)"
         ]
      },
      {
         "cell_type": "code",
         "execution_count": 21,
         "metadata": {},
         "outputs": [
            {
               "name": "stdout",
               "output_type": "stream",
               "text": [
                  "Standardizing...\n"
               ]
            }
         ],
         "source": [
            "# standardize\n",
            "if STANDARDIZE:\n",
            "    print(\"Standardizing...\")\n",
            "    x_train_temp = standardize(x_train_temp)\n",
            "    x_test_temp = standardize(x_test_temp)"
         ]
      },
      {
         "cell_type": "code",
         "execution_count": 22,
         "metadata": {},
         "outputs": [
            {
               "name": "stdout",
               "output_type": "stream",
               "text": [
                  "New x_train and x_test shapes\n",
                  "x_train_temp.shape = (328135, 279)\n",
                  "x_test_temp.shape = (109379, 279)\n"
               ]
            }
         ],
         "source": [
            "print(\"New x_train and x_test shapes\")\n",
            "print(\"x_train_temp.shape =\", x_train_temp.shape)\n",
            "print(\"x_test_temp.shape =\", x_test_temp.shape)"
         ]
      },
      {
         "attachments": {},
         "cell_type": "markdown",
         "metadata": {},
         "source": [
            "### Models"
         ]
      },
      {
         "cell_type": "code",
         "execution_count": 23,
         "metadata": {},
         "outputs": [],
         "source": [
            "# number of folds\n",
            "NUM_FOLDS = 5\n",
            "# build k_indices for cross validation\n",
            "k_indices = build_k_indices(y_train, NUM_FOLDS, 42)"
         ]
      },
      {
         "attachments": {},
         "cell_type": "markdown",
         "metadata": {},
         "source": [
            "#### Mean squared error with GD"
         ]
      },
      {
         "cell_type": "code",
         "execution_count": 24,
         "metadata": {},
         "outputs": [],
         "source": [
            "# Model parameters\n",
            "MAX_ITERS = 100\n",
            "GAMMA = 0.5\n",
            "# Model\n",
            "\n",
            "\n",
            "def _mean_squared_error_gd(y, tx, initial_w):\n",
            "    return mean_squared_error_gd(y, tx, initial_w, MAX_ITERS, GAMMA)\n"
         ]
      },
      {
         "cell_type": "code",
         "execution_count": 25,
         "metadata": {},
         "outputs": [
            {
               "name": "stdout",
               "output_type": "stream",
               "text": [
                  "Fold 1/5\n",
                  "Train loss: 651794955608505568499454194535392247626259397682191373903288171631601609110389044154762601462899933184.00000\n",
                  "Test loss: 642335906831634450402607695751100210247787565533766105669829961746277498816226952775138766881044824064.00000\n",
                  "Train accuracy: 0.47004\n",
                  "Train f1_score: 0.05968\n",
                  "Test accuracy: 0.47241\n",
                  "Test f1_score: 0.05790\n",
                  "------------------------------\n",
                  "Fold 2/5\n",
                  "Train loss: 461123120233055180863264590874661119753652831487652529512794908038836671479508046539474013383724892160.00000\n",
                  "Test loss: 457505792770218050447818156297955373788713121068156704274467827418264776136015244639550229356814008320.00000\n",
                  "Train accuracy: 0.46956\n",
                  "Train f1_score: 0.05887\n",
                  "Test accuracy: 0.47421\n",
                  "Test f1_score: 0.06142\n",
                  "------------------------------\n",
                  "Fold 3/5\n",
                  "Train loss: 69281503798390583237474791008462924453966334216173687989312178010027281870787241502970590722053373952.00000\n",
                  "Test loss: 71336845659704819147472183344618916371681566921483207376711651018978672624103529805506559731455492096.00000\n",
                  "Train accuracy: 0.46738\n",
                  "Train f1_score: 0.05872\n",
                  "Test accuracy: 0.46761\n",
                  "Test f1_score: 0.05903\n",
                  "------------------------------\n",
                  "Fold 4/5\n",
                  "Train loss: 330342989695046476908534567352370056617500016500932021199303471270791774416109462767213808813485326336.00000\n",
                  "Test loss: 330122437985141157105842542112971062043073050413442330057168287070271060302970635752462647942979780608.00000\n",
                  "Train accuracy: 0.46767\n",
                  "Train f1_score: 0.05865\n",
                  "Test accuracy: 0.46511\n",
                  "Test f1_score: 0.05903\n",
                  "------------------------------\n",
                  "Fold 5/5\n",
                  "Train loss: 522313739003522492850554554565825233791292208428768571893496554548611353515178044863558123627944607744.00000\n",
                  "Test loss: 517044401280855752314093989010642531293212883567010370528546263184012216498106469552553068780855492608.00000\n",
                  "Train accuracy: 0.46996\n",
                  "Train f1_score: 0.05941\n",
                  "Test accuracy: 0.46623\n",
                  "Test f1_score: 0.05818\n",
                  "------------------------------\n"
               ]
            }
         ],
         "source": [
            "# Cross validation\n",
            "eval_results_train, eval_results_test, losses_train, losses_test, w = cross_validation(\n",
            "    y_train,\n",
            "    x_train_temp,\n",
            "    k_indices,\n",
            "    model_fn=_mean_squared_error_gd,\n",
            "    loss_fn=compute_loss_mse,\n",
            "    pred_fn=predict_mse,\n",
            "    eval_fns=dict(accuracy=accuracy, f1_score=f1_score),\n",
            ")\n"
         ]
      },
      {
         "cell_type": "code",
         "execution_count": 26,
         "metadata": {},
         "outputs": [
            {
               "name": "stdout",
               "output_type": "stream",
               "text": [
                  "Train:\n",
                  "accuracy : 0.468921 ± 0.001159\n",
                  "f1_score : 0.059065 ± 0.000408\n",
                  "--------------------\n",
                  "Test:\n",
                  "accuracy : 0.469115 ± 0.003562\n",
                  "f1_score : 0.059113 ± 0.001238\n"
               ]
            }
         ],
         "source": [
            "print(\"Train:\")\n",
            "print_results(eval_results_train)\n",
            "print(\"-\" * 20)\n",
            "print(\"Test:\")\n",
            "print_results(eval_results_test)\n"
         ]
      },
      {
         "attachments": {},
         "cell_type": "markdown",
         "metadata": {},
         "source": [
            "### Mean squared error with SGD"
         ]
      },
      {
         "cell_type": "code",
         "execution_count": 27,
         "metadata": {},
         "outputs": [],
         "source": [
            "# Model parameters\n",
            "MAX_ITERS = 100\n",
            "GAMMA = 0.5\n",
            "# Model\n",
            "\n",
            "\n",
            "def _mean_squared_error_sgd(y, tx, initial_w):\n",
            "    return mean_squared_error_sgd(y, tx, initial_w, MAX_ITERS, GAMMA)\n"
         ]
      },
      {
         "cell_type": "code",
         "execution_count": 28,
         "metadata": {},
         "outputs": [
            {
               "name": "stdout",
               "output_type": "stream",
               "text": [
                  "Fold 1/5\n",
                  "Train loss: 298392628334554811106612086784714317913029029821275735968480291543142540352509479079571681052075875190603339962010797880670350393743507456.00000\n",
                  "Test loss: 302107941856087520772057709559050688911895288790913960911823884850021798577119849577038845324416924124781840805494727183060674014764597248.00000\n",
                  "Train accuracy: 0.57662\n",
                  "Train f1_score: 0.18236\n",
                  "Test accuracy: 0.57402\n",
                  "Test f1_score: 0.17699\n",
                  "------------------------------\n",
                  "Fold 2/5\n",
                  "Train loss: 1600415535684864923278207750390391608289506490693086688985438181682513381218446972356679132300443648.00000\n",
                  "Test loss: 1594087747759648393512609787932585748481883162677021456658391892124971084164241640787964762920058880.00000\n",
                  "Train accuracy: 0.39296\n",
                  "Train f1_score: 0.05541\n",
                  "Test accuracy: 0.39659\n",
                  "Test f1_score: 0.05498\n",
                  "------------------------------\n",
                  "Fold 3/5\n",
                  "Train loss: 2153389575252531809476713058590078961381510636305428116959410349093698619769732560421102017908278003483445647588809141443618141829805053978290946048.00000\n",
                  "Test loss: 2132383767301496267693748596545955678916645418728272108514820788527565310758759889606060081973151086322173074109173942982127793176882000190232330240.00000\n",
                  "Train accuracy: 0.54015\n",
                  "Train f1_score: 0.14876\n",
                  "Test accuracy: 0.53973\n",
                  "Test f1_score: 0.14764\n",
                  "------------------------------\n",
                  "Fold 4/5\n",
                  "Train loss: 150543128535434754974773500423967369904286840451237586859118564410905315418992554040686805412735084526517998346921555709945346136618675783135381159936.00000\n",
                  "Test loss: 149057965163024106574414018412163441979130383296083153698409072614699199511336754280278418904923612319267119961879028642734788604206414381214032986112.00000\n",
                  "Train accuracy: 0.53849\n",
                  "Train f1_score: 0.13071\n",
                  "Test accuracy: 0.53667\n",
                  "Test f1_score: 0.12736\n",
                  "------------------------------\n",
                  "Fold 5/5\n",
                  "Train loss: 4945752680278547893612775704754353942998178492168326193298570641161653621928603388210361782106809434112.00000\n",
                  "Test loss: 5011560801322493757916741786177458864908391794137835068985872846360128171154489634724425061696574324736.00000\n",
                  "Train accuracy: 0.49657\n",
                  "Train f1_score: 0.18694\n",
                  "Test accuracy: 0.49690\n",
                  "Test f1_score: 0.18911\n",
                  "------------------------------\n"
               ]
            }
         ],
         "source": [
            "# Cross validation\n",
            "eval_results_train, eval_results_test, losses_train, losses_test, w = cross_validation(\n",
            "    y_train,\n",
            "    x_train_temp,\n",
            "    k_indices,\n",
            "    model_fn=_mean_squared_error_sgd,\n",
            "    loss_fn=compute_loss_mse,\n",
            "    pred_fn=predict_mse,\n",
            "    eval_fns=dict(accuracy=accuracy, f1_score=f1_score),\n",
            ")\n"
         ]
      },
      {
         "cell_type": "code",
         "execution_count": 29,
         "metadata": {},
         "outputs": [
            {
               "name": "stdout",
               "output_type": "stream",
               "text": [
                  "Train:\n",
                  "accuracy : 0.508958 ± 0.063296\n",
                  "f1_score : 0.140837 ± 0.047567\n",
                  "--------------------\n",
                  "Test:\n",
                  "accuracy : 0.508781 ± 0.061187\n",
                  "f1_score : 0.139217 ± 0.047377\n"
               ]
            }
         ],
         "source": [
            "print(\"Train:\")\n",
            "print_results(eval_results_train)\n",
            "print(\"-\" * 20)\n",
            "print(\"Test:\")\n",
            "print_results(eval_results_test)\n"
         ]
      },
      {
         "attachments": {},
         "cell_type": "markdown",
         "metadata": {},
         "source": [
            "### Least squares"
         ]
      },
      {
         "cell_type": "code",
         "execution_count": 30,
         "metadata": {},
         "outputs": [],
         "source": [
            "def _least_squares(y, tx, initial_w):\n",
            "    return least_squares(y, tx)"
         ]
      },
      {
         "cell_type": "code",
         "execution_count": 31,
         "metadata": {},
         "outputs": [
            {
               "name": "stdout",
               "output_type": "stream",
               "text": [
                  "Fold 1/5\n",
                  "Train loss: 0.03825\n",
                  "Test loss: 0.03796\n",
                  "Train accuracy: 0.91156\n",
                  "Train f1_score: 0.00429\n",
                  "Test accuracy: 0.91301\n",
                  "Test f1_score: 0.00279\n",
                  "------------------------------\n",
                  "Fold 2/5\n",
                  "Train loss: 0.03831\n",
                  "Test loss: 0.03769\n",
                  "Train accuracy: 0.91146\n",
                  "Train f1_score: 0.00386\n",
                  "Test accuracy: 0.91334\n",
                  "Test f1_score: 0.00316\n",
                  "------------------------------\n",
                  "Fold 3/5\n",
                  "Train loss: 0.03814\n",
                  "Test loss: 0.03837\n",
                  "Train accuracy: 0.91192\n",
                  "Train f1_score: 0.00259\n",
                  "Test accuracy: 0.91129\n",
                  "Test f1_score: 0.00240\n",
                  "------------------------------\n",
                  "Fold 4/5\n",
                  "Train loss: 0.03812\n",
                  "Test loss: 0.03849\n",
                  "Train accuracy: 0.91202\n",
                  "Train f1_score: 0.00423\n",
                  "Test accuracy: 0.91121\n",
                  "Test f1_score: 0.00376\n",
                  "------------------------------\n",
                  "Fold 5/5\n",
                  "Train loss: 0.03802\n",
                  "Test loss: 0.03888\n",
                  "Train accuracy: 0.91225\n",
                  "Train f1_score: 0.00389\n",
                  "Test accuracy: 0.91022\n",
                  "Test f1_score: 0.00406\n",
                  "------------------------------\n"
               ]
            }
         ],
         "source": [
            "# Cross validation\n",
            "eval_results_train, eval_results_test, losses_train, losses_test, w = cross_validation(\n",
            "    y_train,\n",
            "    x_train_temp,\n",
            "    k_indices,\n",
            "    model_fn=_least_squares,\n",
            "    loss_fn=compute_loss_mse,\n",
            "    pred_fn=predict_mse,\n",
            "    eval_fns=dict(accuracy=accuracy, f1_score=f1_score),\n",
            ")\n"
         ]
      },
      {
         "cell_type": "code",
         "execution_count": 32,
         "metadata": {},
         "outputs": [
            {
               "name": "stdout",
               "output_type": "stream",
               "text": [
                  "Train:\n",
                  "accuracy : 0.911843 ± 0.000294\n",
                  "f1_score : 0.003770 ± 0.000616\n",
                  "--------------------\n",
                  "Test:\n",
                  "accuracy : 0.911814 ± 0.001179\n",
                  "f1_score : 0.003233 ± 0.000609\n"
               ]
            }
         ],
         "source": [
            "print(\"Train:\")\n",
            "print_results(eval_results_train)\n",
            "print(\"-\" * 20)\n",
            "print(\"Test:\")\n",
            "print_results(eval_results_test)\n"
         ]
      },
      {
         "attachments": {},
         "cell_type": "markdown",
         "metadata": {},
         "source": [
            "### Ridge regression"
         ]
      },
      {
         "cell_type": "code",
         "execution_count": 33,
         "metadata": {},
         "outputs": [],
         "source": [
            "LAMBDA_ = 0.1\n",
            "\n",
            "\n",
            "def _ridge_regression(y, tx, initial_w):\n",
            "    return ridge_regression(y, tx, LAMBDA_)"
         ]
      },
      {
         "cell_type": "code",
         "execution_count": 34,
         "metadata": {},
         "outputs": [
            {
               "name": "stdout",
               "output_type": "stream",
               "text": [
                  "Fold 1/5\n",
                  "Train loss: 0.03834\n",
                  "Test loss: 0.03801\n",
                  "Train accuracy: 0.91144\n",
                  "Train f1_score: 0.00129\n",
                  "Test accuracy: 0.91293\n",
                  "Test f1_score: 0.00070\n",
                  "------------------------------\n",
                  "Fold 2/5\n",
                  "Train loss: 0.03841\n",
                  "Test loss: 0.03773\n",
                  "Train accuracy: 0.91135\n",
                  "Train f1_score: 0.00112\n",
                  "Test accuracy: 0.91328\n",
                  "Test f1_score: 0.00105\n",
                  "------------------------------\n",
                  "Fold 3/5\n",
                  "Train loss: 0.03824\n",
                  "Test loss: 0.03845\n",
                  "Train accuracy: 0.91186\n",
                  "Train f1_score: 0.00095\n",
                  "Test accuracy: 0.91121\n",
                  "Test f1_score: 0.00069\n",
                  "------------------------------\n",
                  "Fold 4/5\n",
                  "Train loss: 0.03821\n",
                  "Test loss: 0.03857\n",
                  "Train accuracy: 0.91189\n",
                  "Train f1_score: 0.00086\n",
                  "Test accuracy: 0.91112\n",
                  "Test f1_score: 0.00171\n",
                  "------------------------------\n",
                  "Fold 5/5\n",
                  "Train loss: 0.03811\n",
                  "Test loss: 0.03895\n",
                  "Train accuracy: 0.91216\n",
                  "Train f1_score: 0.00156\n",
                  "Test accuracy: 0.91017\n",
                  "Test f1_score: 0.00203\n",
                  "------------------------------\n"
               ]
            }
         ],
         "source": [
            "# Cross validation\n",
            "eval_results_train, eval_results_test, losses_train, losses_test, w = cross_validation(\n",
            "    y_train,\n",
            "    x_train_temp,\n",
            "    k_indices,\n",
            "    model_fn=_ridge_regression,\n",
            "    loss_fn=compute_loss_mse,\n",
            "    pred_fn=predict_mse,\n",
            "    eval_fns=dict(accuracy=accuracy, f1_score=f1_score),\n",
            ")\n"
         ]
      },
      {
         "cell_type": "code",
         "execution_count": 35,
         "metadata": {},
         "outputs": [
            {
               "name": "stdout",
               "output_type": "stream",
               "text": [
                  "Train:\n",
                  "accuracy : 0.911740 ± 0.000303\n",
                  "f1_score : 0.001155 ± 0.000249\n",
                  "--------------------\n",
                  "Test:\n",
                  "accuracy : 0.911744 ± 0.001176\n",
                  "f1_score : 0.001236 ± 0.000545\n"
               ]
            }
         ],
         "source": [
            "print(\"Train:\")\n",
            "print_results(eval_results_train)\n",
            "print(\"-\" * 20)\n",
            "print(\"Test:\")\n",
            "print_results(eval_results_test)\n"
         ]
      },
      {
         "attachments": {},
         "cell_type": "markdown",
         "metadata": {},
         "source": [
            "### Logistic regression"
         ]
      },
      {
         "cell_type": "code",
         "execution_count": 36,
         "metadata": {},
         "outputs": [],
         "source": [
            "# Model parameters\n",
            "MAX_ITERS = 100\n",
            "GAMMA = 0.5\n",
            "# Model\n",
            "\n",
            "\n",
            "def _logistic_regression(y, tx, initial_w):\n",
            "    return logistic_regression(y, tx, initial_w, MAX_ITERS, GAMMA)\n"
         ]
      },
      {
         "cell_type": "code",
         "execution_count": 37,
         "metadata": {},
         "outputs": [
            {
               "name": "stdout",
               "output_type": "stream",
               "text": [
                  "Fold 1/5\n",
                  "Train loss: 0.66826\n",
                  "Test loss: 0.67004\n",
                  "Train accuracy: 0.63552\n",
                  "Train f1_score: 0.30401\n",
                  "Test accuracy: 0.63413\n",
                  "Test f1_score: 0.29815\n",
                  "------------------------------\n",
                  "Fold 2/5\n",
                  "Train loss: 0.66845\n",
                  "Test loss: 0.66926\n",
                  "Train accuracy: 0.63366\n",
                  "Train f1_score: 0.30324\n",
                  "Test accuracy: 0.63367\n",
                  "Test f1_score: 0.29818\n",
                  "------------------------------\n",
                  "Fold 3/5\n",
                  "Train loss: 0.66837\n",
                  "Test loss: 0.66965\n",
                  "Train accuracy: 0.63484\n",
                  "Train f1_score: 0.30214\n",
                  "Test accuracy: 0.63207\n",
                  "Test f1_score: 0.30347\n",
                  "------------------------------\n",
                  "Fold 4/5\n",
                  "Train loss: 0.66866\n",
                  "Test loss: 0.66845\n",
                  "Train accuracy: 0.63530\n",
                  "Train f1_score: 0.30267\n",
                  "Test accuracy: 0.63555\n",
                  "Test f1_score: 0.30443\n",
                  "------------------------------\n",
                  "Fold 5/5\n",
                  "Train loss: 0.66818\n",
                  "Test loss: 0.67042\n",
                  "Train accuracy: 0.63515\n",
                  "Train f1_score: 0.30178\n",
                  "Test accuracy: 0.63172\n",
                  "Test f1_score: 0.30455\n",
                  "------------------------------\n"
               ]
            }
         ],
         "source": [
            "# Cross validation\n",
            "eval_results_train, eval_results_test, losses_train, losses_test, w = cross_validation(\n",
            "    y_train,\n",
            "    x_train_temp,\n",
            "    k_indices,\n",
            "    model_fn=_logistic_regression,\n",
            "    loss_fn=compute_loss_logistic,\n",
            "    pred_fn=predict_logistic,\n",
            "    eval_fns=dict(accuracy=accuracy, f1_score=f1_score),\n",
            ")\n"
         ]
      },
      {
         "cell_type": "code",
         "execution_count": 38,
         "metadata": {},
         "outputs": [
            {
               "name": "stdout",
               "output_type": "stream",
               "text": [
                  "Train:\n",
                  "accuracy : 0.634893 ± 0.000653\n",
                  "f1_score : 0.302769 ± 0.000793\n",
                  "--------------------\n",
                  "Test:\n",
                  "accuracy : 0.633428 ± 0.001399\n",
                  "f1_score : 0.301754 ± 0.002956\n"
               ]
            }
         ],
         "source": [
            "print(\"Train:\")\n",
            "print_results(eval_results_train)\n",
            "print(\"-\" * 20)\n",
            "print(\"Test:\")\n",
            "print_results(eval_results_test)\n"
         ]
      },
      {
         "attachments": {},
         "cell_type": "markdown",
         "metadata": {},
         "source": [
            "### Regularized logistic regression"
         ]
      },
      {
         "cell_type": "code",
         "execution_count": 39,
         "metadata": {},
         "outputs": [],
         "source": [
            "# Model parameters\n",
            "MAX_ITERS = 100\n",
            "GAMMA = 0.5\n",
            "LAMBDA_ = 0.1\n",
            "# Model\n",
            "\n",
            "\n",
            "def _reg_logistic_regression(y, tx, initial_w):\n",
            "    return reg_logistic_regression(y, tx, initial_w, MAX_ITERS, GAMMA, LAMBDA_)\n"
         ]
      },
      {
         "cell_type": "code",
         "execution_count": 40,
         "metadata": {},
         "outputs": [
            {
               "name": "stdout",
               "output_type": "stream",
               "text": [
                  "Fold 1/5\n",
                  "Train loss: 0.67025\n",
                  "Test loss: 0.67115\n",
                  "Train accuracy: 0.62914\n",
                  "Train f1_score: 0.30135\n",
                  "Test accuracy: 0.62901\n",
                  "Test f1_score: 0.29692\n",
                  "------------------------------\n",
                  "Fold 2/5\n",
                  "Train loss: 0.67041\n",
                  "Test loss: 0.67072\n",
                  "Train accuracy: 0.62756\n",
                  "Train f1_score: 0.30086\n",
                  "Test accuracy: 0.62778\n",
                  "Test f1_score: 0.29586\n",
                  "------------------------------\n",
                  "Fold 3/5\n",
                  "Train loss: 0.67032\n",
                  "Test loss: 0.67110\n",
                  "Train accuracy: 0.62904\n",
                  "Train f1_score: 0.29990\n",
                  "Test accuracy: 0.62593\n",
                  "Test f1_score: 0.30042\n",
                  "------------------------------\n",
                  "Fold 4/5\n",
                  "Train loss: 0.67062\n",
                  "Test loss: 0.67005\n",
                  "Train accuracy: 0.62811\n",
                  "Train f1_score: 0.29965\n",
                  "Test accuracy: 0.63020\n",
                  "Test f1_score: 0.30231\n",
                  "------------------------------\n",
                  "Fold 5/5\n",
                  "Train loss: 0.67016\n",
                  "Test loss: 0.67147\n",
                  "Train accuracy: 0.62884\n",
                  "Train f1_score: 0.29942\n",
                  "Test accuracy: 0.62639\n",
                  "Test f1_score: 0.30294\n",
                  "------------------------------\n"
               ]
            }
         ],
         "source": [
            "# Cross validation\n",
            "eval_results_train, eval_results_test, losses_train, losses_test, w = cross_validation(\n",
            "    y_train,\n",
            "    x_train_temp,\n",
            "    k_indices,\n",
            "    model_fn=_reg_logistic_regression,\n",
            "    loss_fn=compute_loss_logistic,\n",
            "    pred_fn=predict_logistic,\n",
            "    eval_fns=dict(accuracy=accuracy, f1_score=f1_score),\n",
            ")\n"
         ]
      },
      {
         "cell_type": "code",
         "execution_count": 41,
         "metadata": {},
         "outputs": [
            {
               "name": "stdout",
               "output_type": "stream",
               "text": [
                  "Train:\n",
                  "accuracy : 0.628539 ± 0.000608\n",
                  "f1_score : 0.300235 ± 0.000741\n",
                  "--------------------\n",
                  "Test:\n",
                  "accuracy : 0.627860 ± 0.001592\n",
                  "f1_score : 0.299691 ± 0.002840\n"
               ]
            }
         ],
         "source": [
            "print(\"Train:\")\n",
            "print_results(eval_results_train)\n",
            "print(\"-\" * 20)\n",
            "print(\"Test:\")\n",
            "print_results(eval_results_test)\n"
         ]
      }
   ],
   "metadata": {
      "kernelspec": {
         "display_name": "Python 3",
         "language": "python",
         "name": "python3"
      },
      "language_info": {
         "codemirror_mode": {
            "name": "ipython",
            "version": 3
         },
         "file_extension": ".py",
         "mimetype": "text/x-python",
         "name": "python",
         "nbconvert_exporter": "python",
         "pygments_lexer": "ipython3",
         "version": "3.9.18"
      },
      "vscode": {
         "interpreter": {
            "hash": "916dbcbb3f70747c44a77c7bcd40155683ae19c65e1c03b4aa3499c5328201f1"
         }
      }
   },
   "nbformat": 4,
   "nbformat_minor": 2
}
