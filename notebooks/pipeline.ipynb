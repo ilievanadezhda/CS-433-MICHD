{
 "cells": [
  {
   "cell_type": "code",
   "execution_count": 1,
   "metadata": {},
   "outputs": [],
   "source": [
    "%load_ext autoreload\n",
    "%autoreload 2"
   ]
  },
  {
   "cell_type": "code",
   "execution_count": 2,
   "metadata": {},
   "outputs": [],
   "source": [
    "import sys\n",
    "sys.path.append('../')\n",
    "\n",
    "import numpy as np\n",
    "from helpers import *\n",
    "from implementations import (\n",
    "    mean_squared_error_gd,\n",
    "    mean_squared_error_sgd,\n",
    "    cross_validation,\n",
    "    logistic_regression,\n",
    "    ridge_regression,\n",
    "    least_squares,\n",
    "    reg_logistic_regression,\n",
    ")\n",
    "from feature_processing import (\n",
    "    build_k_indices,\n",
    "    mean_imputation,\n",
    "    standardize,\n",
    "    drop_columns,\n",
    "    build_poly\n",
    ")"
   ]
  },
  {
   "cell_type": "code",
   "execution_count": 3,
   "metadata": {},
   "outputs": [],
   "source": [
    "# dict with models\n",
    "models = {\n",
    "    \"least_squares\": least_squares,\n",
    "    \"ridge_regression\": ridge_regression,\n",
    "    \"logistic_regression\": logistic_regression,\n",
    "    \"reg_logistic_regression\": reg_logistic_regression,\n",
    "    \"linear_regression_gradient_descent\": mean_squared_error_gd,\n",
    "    \"linear_regression_stochastic_gradient_descent\": mean_squared_error_sgd,\n",
    "}\n"
   ]
  },
  {
   "cell_type": "code",
   "execution_count": 4,
   "metadata": {},
   "outputs": [],
   "source": [
    "np.random.seed(42)"
   ]
  },
  {
   "cell_type": "code",
   "execution_count": 5,
   "metadata": {},
   "outputs": [],
   "source": [
    "x_train, x_test, y_train, train_ids, test_ids = load_csv_data('../../data/')"
   ]
  },
  {
   "cell_type": "code",
   "execution_count": 15,
   "metadata": {},
   "outputs": [],
   "source": [
    "y_train[np.where(y_train == -1)] = 0"
   ]
  },
  {
   "cell_type": "code",
   "execution_count": 6,
   "metadata": {},
   "outputs": [],
   "source": [
    "x_train = drop_columns(x_train, 0.8)\n",
    "x_test = drop_columns(x_test, 0.8)  # if column has 80% missing and above, we drop it\n",
    "# TODO: maybe thiss drops different columns in x_train and x_test. Check it out. "
   ]
  },
  {
   "cell_type": "code",
   "execution_count": 7,
   "metadata": {},
   "outputs": [
    {
     "name": "stdout",
     "output_type": "stream",
     "text": [
      "x_train shape:  (328135, 205)\n",
      "x_test shape:  (109379, 205)\n"
     ]
    }
   ],
   "source": [
    "print(\"x_train shape: \", x_train.shape)\n",
    "print(\"x_test shape: \", x_test.shape)"
   ]
  },
  {
   "cell_type": "code",
   "execution_count": 8,
   "metadata": {},
   "outputs": [],
   "source": [
    "x_train = mean_imputation(x_train)  # median_imputation(x_train)\n",
    "x_test = mean_imputation(x_test)  # median_imputation(x_test)"
   ]
  },
  {
   "cell_type": "code",
   "execution_count": 10,
   "metadata": {},
   "outputs": [],
   "source": [
    "x_train = standardize(x_train)\n",
    "x_test = standardize(x_test)"
   ]
  },
  {
   "cell_type": "code",
   "execution_count": 11,
   "metadata": {},
   "outputs": [],
   "source": [
    "# x_train = build_poly(x_train, 2)\n",
    "# x_test = build_poly(x_test, 2)"
   ]
  },
  {
   "cell_type": "code",
   "execution_count": 16,
   "metadata": {},
   "outputs": [
    {
     "name": "stdout",
     "output_type": "stream",
     "text": [
      "kth=0\n",
      "fold=0, accuracy_train=0.627, accuracy_test=0.626,\n",
      "loss_train=0.088, loss_test=0.089,\n",
      "kth=1\n",
      "fold=1, accuracy_train=0.626, accuracy_test=0.626,\n",
      "loss_train=0.088, loss_test=0.088,\n",
      "kth=2\n",
      "fold=2, accuracy_train=0.627, accuracy_test=0.624,\n",
      "loss_train=0.089, loss_test=0.088,\n",
      "kth=3\n",
      "fold=3, accuracy_train=0.626, accuracy_test=0.628,\n",
      "loss_train=0.087, loss_test=0.087,\n",
      "kth=4\n",
      "fold=4, accuracy_train=0.627, accuracy_test=0.625,\n",
      "loss_train=0.089, loss_test=0.089,\n"
     ]
    }
   ],
   "source": [
    "model_args = {\n",
    "    \"max_iters\": 50,\n",
    "    \"gamma\": 0.1,\n",
    "    \"initial_w\": np.zeros(x_train.shape[1]),\n",
    "}  # CHANGE THIS IN ACCORDANCE TO THE MODEL\n",
    "\n",
    "k_indices = build_k_indices(y_train, 5, 42)\n",
    "train_loss, test_loss, acc_train, acc_test, weights = cross_validation(\n",
    "    y_train, x_train, k_indices, 5, models[\"logistic_regression\"], model_args\n",
    ")"
   ]
  },
  {
   "cell_type": "code",
   "execution_count": null,
   "metadata": {},
   "outputs": [],
   "source": []
  }
 ],
 "metadata": {
  "kernelspec": {
   "display_name": "Python 3",
   "language": "python",
   "name": "python3"
  },
  "language_info": {
   "codemirror_mode": {
    "name": "ipython",
    "version": 3
   },
   "file_extension": ".py",
   "mimetype": "text/x-python",
   "name": "python",
   "nbconvert_exporter": "python",
   "pygments_lexer": "ipython3",
   "version": "3.10.12"
  },
  "vscode": {
   "interpreter": {
    "hash": "916dbcbb3f70747c44a77c7bcd40155683ae19c65e1c03b4aa3499c5328201f1"
   }
  }
 },
 "nbformat": 4,
 "nbformat_minor": 2
}
